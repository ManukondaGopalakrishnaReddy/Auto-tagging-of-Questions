{
 "cells": [
  {
   "cell_type": "markdown",
   "id": "44751f25",
   "metadata": {},
   "source": [
    "# Category"
   ]
  },
  {
   "cell_type": "code",
   "execution_count": 1,
   "id": "19a5e542",
   "metadata": {},
   "outputs": [],
   "source": [
    "import pandas as pd\n",
    "from sklearn.feature_extraction.text import TfidfVectorizer\n",
    "from sklearn.model_selection import train_test_split, GridSearchCV\n",
    "from sklearn.pipeline import Pipeline\n",
    "from sklearn.multiclass import OneVsRestClassifier\n",
    "from sklearn.svm import LinearSVC\n",
    "from sklearn.metrics import accuracy_score\n",
    "from sklearn.exceptions import ConvergenceWarning\n",
    "import warnings"
   ]
  },
  {
   "cell_type": "code",
   "execution_count": 2,
   "id": "5f82543c",
   "metadata": {},
   "outputs": [
    {
     "data": {
      "text/html": [
       "<div>\n",
       "<style scoped>\n",
       "    .dataframe tbody tr th:only-of-type {\n",
       "        vertical-align: middle;\n",
       "    }\n",
       "\n",
       "    .dataframe tbody tr th {\n",
       "        vertical-align: top;\n",
       "    }\n",
       "\n",
       "    .dataframe thead th {\n",
       "        text-align: right;\n",
       "    }\n",
       "</style>\n",
       "<table border=\"1\" class=\"dataframe\">\n",
       "  <thead>\n",
       "    <tr style=\"text-align: right;\">\n",
       "      <th></th>\n",
       "      <th>Questions</th>\n",
       "      <th>Difficulty Level</th>\n",
       "      <th>Bloom's Taxonomy</th>\n",
       "      <th>Category</th>\n",
       "      <th>Sub Category</th>\n",
       "    </tr>\n",
       "  </thead>\n",
       "  <tbody>\n",
       "    <tr>\n",
       "      <th>0</th>\n",
       "      <td>how did serfdom develop in and then leave russia</td>\n",
       "      <td>Hard</td>\n",
       "      <td>Understanding</td>\n",
       "      <td>Description</td>\n",
       "      <td>Manner</td>\n",
       "    </tr>\n",
       "    <tr>\n",
       "      <th>1</th>\n",
       "      <td>what films featured the character popeye doyle</td>\n",
       "      <td>Medium</td>\n",
       "      <td>Understanding</td>\n",
       "      <td>Entity</td>\n",
       "      <td>Currency, monetary value, or gem</td>\n",
       "    </tr>\n",
       "    <tr>\n",
       "      <th>2</th>\n",
       "      <td>how can i find a list of celebrities   real names</td>\n",
       "      <td>Hard</td>\n",
       "      <td>Understanding</td>\n",
       "      <td>Description</td>\n",
       "      <td>Manner</td>\n",
       "    </tr>\n",
       "    <tr>\n",
       "      <th>3</th>\n",
       "      <td>what fowl grabs the spotlight after the chines...</td>\n",
       "      <td>Medium</td>\n",
       "      <td>Understanding</td>\n",
       "      <td>Entity</td>\n",
       "      <td>Animal</td>\n",
       "    </tr>\n",
       "    <tr>\n",
       "      <th>4</th>\n",
       "      <td>what is the full form of  com</td>\n",
       "      <td>Easy</td>\n",
       "      <td>Remembering</td>\n",
       "      <td>Abbreviation</td>\n",
       "      <td>Expression</td>\n",
       "    </tr>\n",
       "  </tbody>\n",
       "</table>\n",
       "</div>"
      ],
      "text/plain": [
       "                                           Questions Difficulty Level  \\\n",
       "0   how did serfdom develop in and then leave russia             Hard   \n",
       "1     what films featured the character popeye doyle           Medium   \n",
       "2  how can i find a list of celebrities   real names             Hard   \n",
       "3  what fowl grabs the spotlight after the chines...           Medium   \n",
       "4                      what is the full form of  com             Easy   \n",
       "\n",
       "  Bloom's Taxonomy      Category                      Sub Category  \n",
       "0    Understanding   Description                            Manner  \n",
       "1    Understanding        Entity  Currency, monetary value, or gem  \n",
       "2    Understanding   Description                            Manner  \n",
       "3    Understanding        Entity                            Animal  \n",
       "4      Remembering  Abbreviation                        Expression  "
      ]
     },
     "execution_count": 2,
     "metadata": {},
     "output_type": "execute_result"
    }
   ],
   "source": [
    "# Load the dataset\n",
    "df = pd.read_csv('../Data/Data.csv')\n",
    "df.head()"
   ]
  },
  {
   "cell_type": "code",
   "execution_count": 3,
   "id": "77d787f1",
   "metadata": {},
   "outputs": [],
   "source": [
    "# Split the data into training and testing sets\n",
    "X = df['Questions']\n",
    "y_category = df['Category']\n",
    "X_train, X_test, y_category_train, y_category_test = train_test_split(X, y_category, test_size=0.2, random_state=42)"
   ]
  },
  {
   "cell_type": "code",
   "execution_count": 4,
   "id": "6ab1eb00",
   "metadata": {},
   "outputs": [],
   "source": [
    "# Define the pipeline for category prediction\n",
    "category_pipeline = Pipeline([\n",
    "    ('tfidf', TfidfVectorizer()),\n",
    "    ('clf', OneVsRestClassifier(LinearSVC(max_iter=10000)))  # Increase max_iter parameter\n",
    "])"
   ]
  },
  {
   "cell_type": "code",
   "execution_count": 5,
   "id": "bd672716",
   "metadata": {},
   "outputs": [],
   "source": [
    "# Define the hyperparameters to tune\n",
    "parameters = {\n",
    "    'tfidf__ngram_range': [(1, 1), (1, 2)],  # Unigrams or bigrams\n",
    "    'clf__estimator__C': [1, 10, 100]  # Penalty parameter C of the error term\n",
    "}"
   ]
  },
  {
   "cell_type": "code",
   "execution_count": 6,
   "id": "4c8f2c4a",
   "metadata": {},
   "outputs": [],
   "source": [
    "# Perform grid search to find the best hyperparameters\n",
    "with warnings.catch_warnings():\n",
    "    warnings.filterwarnings(\"ignore\", category=ConvergenceWarning)\n",
    "    grid_search = GridSearchCV(category_pipeline, parameters, cv=5)\n",
    "    grid_search.fit(X_train, y_category_train)"
   ]
  },
  {
   "cell_type": "code",
   "execution_count": 7,
   "id": "1960f177",
   "metadata": {},
   "outputs": [
    {
     "name": "stdout",
     "output_type": "stream",
     "text": [
      "Best Hyperparameters:\n",
      "{'clf__estimator__C': 10, 'tfidf__ngram_range': (1, 2)}\n"
     ]
    }
   ],
   "source": [
    "# Print the best hyperparameters\n",
    "print(\"Best Hyperparameters:\")\n",
    "print(grid_search.best_params_)"
   ]
  },
  {
   "cell_type": "code",
   "execution_count": 8,
   "id": "05cdec05",
   "metadata": {},
   "outputs": [],
   "source": [
    "# Get the best performing model\n",
    "best_category_pipeline = grid_search.best_estimator_"
   ]
  },
  {
   "cell_type": "code",
   "execution_count": 9,
   "id": "608dc283",
   "metadata": {},
   "outputs": [],
   "source": [
    "# Make predictions on the test set for categories\n",
    "y_category_pred = best_category_pipeline.predict(X_test)"
   ]
  },
  {
   "cell_type": "code",
   "execution_count": 10,
   "id": "cb499f51",
   "metadata": {},
   "outputs": [
    {
     "name": "stdout",
     "output_type": "stream",
     "text": [
      "Accuracy for category prediction: 86.89%\n"
     ]
    }
   ],
   "source": [
    "# Calculate accuracy for category prediction\n",
    "category_accuracy = accuracy_score(y_category_test, y_category_pred)\n",
    "print(\"Accuracy for category prediction: {:.2f}%\".format(category_accuracy * 100))"
   ]
  },
  {
   "cell_type": "markdown",
   "id": "57825981",
   "metadata": {},
   "source": [
    "# Testing "
   ]
  },
  {
   "cell_type": "code",
   "execution_count": 11,
   "id": "4ff6fb76",
   "metadata": {},
   "outputs": [
    {
     "name": "stdout",
     "output_type": "stream",
     "text": [
      "Predicted category: Location\n"
     ]
    }
   ],
   "source": [
    "# New question to predict\n",
    "new_question = \"Where is charminar?\"\n",
    "\n",
    "# Use the trained model to predict the category\n",
    "predicted_category = best_category_pipeline.predict([new_question])\n",
    "\n",
    "print(\"Predicted category:\", predicted_category[0])"
   ]
  },
  {
   "cell_type": "code",
   "execution_count": 12,
   "id": "9802fcb4",
   "metadata": {},
   "outputs": [],
   "source": [
    "import os\n",
    "import pickle\n",
    "\n",
    "# Define the path to the \"models\" folder\n",
    "models_folder = '../Models'\n",
    "\n",
    "# Create the \"Models\" folder if it doesn't exist\n",
    "if not os.path.exists(models_folder):\n",
    "    os.makedirs(models_folder)\n",
    "\n",
    "# Save the model to a file inside the \"Models\" folder\n",
    "model_filename = os.path.join(models_folder, 'Category_model.pkl')\n",
    "with open(model_filename, 'wb') as file:\n",
    "    pickle.dump(best_category_pipeline, file)"
   ]
  },
  {
   "cell_type": "code",
   "execution_count": null,
   "id": "05810614",
   "metadata": {},
   "outputs": [],
   "source": []
  }
 ],
 "metadata": {
  "kernelspec": {
   "display_name": "Python 3 (ipykernel)",
   "language": "python",
   "name": "python3"
  },
  "language_info": {
   "codemirror_mode": {
    "name": "ipython",
    "version": 3
   },
   "file_extension": ".py",
   "mimetype": "text/x-python",
   "name": "python",
   "nbconvert_exporter": "python",
   "pygments_lexer": "ipython3",
   "version": "3.11.3"
  }
 },
 "nbformat": 4,
 "nbformat_minor": 5
}
