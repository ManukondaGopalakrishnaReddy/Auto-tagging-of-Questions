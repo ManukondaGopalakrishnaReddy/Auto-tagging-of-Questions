{
 "cells": [
  {
   "cell_type": "markdown",
   "id": "5862a7b1",
   "metadata": {},
   "source": [
    "# Bloom's Taxonomy"
   ]
  },
  {
   "cell_type": "code",
   "execution_count": 1,
   "id": "19511dd7",
   "metadata": {},
   "outputs": [],
   "source": [
    "import pandas as pd\n",
    "from sklearn.feature_extraction.text import TfidfVectorizer\n",
    "from sklearn.model_selection import train_test_split, GridSearchCV\n",
    "from sklearn.pipeline import Pipeline\n",
    "from sklearn.multiclass import OneVsRestClassifier\n",
    "from sklearn.svm import LinearSVC\n",
    "from sklearn.metrics import accuracy_score\n",
    "from sklearn.exceptions import ConvergenceWarning\n",
    "import warnings"
   ]
  },
  {
   "cell_type": "code",
   "execution_count": 2,
   "id": "866038da",
   "metadata": {},
   "outputs": [
    {
     "data": {
      "text/html": [
       "<div>\n",
       "<style scoped>\n",
       "    .dataframe tbody tr th:only-of-type {\n",
       "        vertical-align: middle;\n",
       "    }\n",
       "\n",
       "    .dataframe tbody tr th {\n",
       "        vertical-align: top;\n",
       "    }\n",
       "\n",
       "    .dataframe thead th {\n",
       "        text-align: right;\n",
       "    }\n",
       "</style>\n",
       "<table border=\"1\" class=\"dataframe\">\n",
       "  <thead>\n",
       "    <tr style=\"text-align: right;\">\n",
       "      <th></th>\n",
       "      <th>Questions</th>\n",
       "      <th>Difficulty Level</th>\n",
       "      <th>Bloom's Taxonomy</th>\n",
       "      <th>Category</th>\n",
       "      <th>Sub Category</th>\n",
       "    </tr>\n",
       "  </thead>\n",
       "  <tbody>\n",
       "    <tr>\n",
       "      <th>0</th>\n",
       "      <td>how did serfdom develop in and then leave russia</td>\n",
       "      <td>Hard</td>\n",
       "      <td>Understanding</td>\n",
       "      <td>Description</td>\n",
       "      <td>Manner</td>\n",
       "    </tr>\n",
       "    <tr>\n",
       "      <th>1</th>\n",
       "      <td>what films featured the character popeye doyle</td>\n",
       "      <td>Medium</td>\n",
       "      <td>Understanding</td>\n",
       "      <td>Entity</td>\n",
       "      <td>Currency, monetary value, or gem</td>\n",
       "    </tr>\n",
       "    <tr>\n",
       "      <th>2</th>\n",
       "      <td>how can i find a list of celebrities   real names</td>\n",
       "      <td>Hard</td>\n",
       "      <td>Understanding</td>\n",
       "      <td>Description</td>\n",
       "      <td>Manner</td>\n",
       "    </tr>\n",
       "    <tr>\n",
       "      <th>3</th>\n",
       "      <td>what fowl grabs the spotlight after the chines...</td>\n",
       "      <td>Medium</td>\n",
       "      <td>Understanding</td>\n",
       "      <td>Entity</td>\n",
       "      <td>Animal</td>\n",
       "    </tr>\n",
       "    <tr>\n",
       "      <th>4</th>\n",
       "      <td>what is the full form of  com</td>\n",
       "      <td>Easy</td>\n",
       "      <td>Remembering</td>\n",
       "      <td>Abbreviation</td>\n",
       "      <td>Expression</td>\n",
       "    </tr>\n",
       "  </tbody>\n",
       "</table>\n",
       "</div>"
      ],
      "text/plain": [
       "                                           Questions Difficulty Level  \\\n",
       "0   how did serfdom develop in and then leave russia             Hard   \n",
       "1     what films featured the character popeye doyle           Medium   \n",
       "2  how can i find a list of celebrities   real names             Hard   \n",
       "3  what fowl grabs the spotlight after the chines...           Medium   \n",
       "4                      what is the full form of  com             Easy   \n",
       "\n",
       "  Bloom's Taxonomy      Category                      Sub Category  \n",
       "0    Understanding   Description                            Manner  \n",
       "1    Understanding        Entity  Currency, monetary value, or gem  \n",
       "2    Understanding   Description                            Manner  \n",
       "3    Understanding        Entity                            Animal  \n",
       "4      Remembering  Abbreviation                        Expression  "
      ]
     },
     "execution_count": 2,
     "metadata": {},
     "output_type": "execute_result"
    }
   ],
   "source": [
    "# Load the dataset\n",
    "df = pd.read_csv('../Data/Data.csv')\n",
    "df.head()"
   ]
  },
  {
   "cell_type": "code",
   "execution_count": 3,
   "id": "bab0da45",
   "metadata": {},
   "outputs": [],
   "source": [
    "# Split the data into training and testing sets\n",
    "X = df['Questions']\n",
    "y_taxonomy = df[\"Bloom's Taxonomy\"]\n",
    "X_train, X_test, y_taxonomy_train, y_taxonomy_test = train_test_split(X, y_taxonomy, test_size=0.2, random_state=42)\n"
   ]
  },
  {
   "cell_type": "code",
   "execution_count": 4,
   "id": "5e8fb096",
   "metadata": {},
   "outputs": [],
   "source": [
    "# Define the pipeline for taxonomy prediction\n",
    "taxonomy_pipeline = Pipeline([\n",
    "    ('tfidf', TfidfVectorizer()),\n",
    "    ('clf', OneVsRestClassifier(LinearSVC(max_iter=10000)))  # Increase max_iter parameter\n",
    "])"
   ]
  },
  {
   "cell_type": "code",
   "execution_count": 5,
   "id": "5e3b9e0d",
   "metadata": {},
   "outputs": [],
   "source": [
    "# Define the hyperparameters to tune\n",
    "parameters = {\n",
    "    'tfidf__ngram_range': [(1, 1), (1, 2)],  # Unigrams or bigrams\n",
    "    'clf__estimator__C': [1, 10, 100]  # Penalty parameter C of the error term\n",
    "}"
   ]
  },
  {
   "cell_type": "code",
   "execution_count": 6,
   "id": "3a78eb5d",
   "metadata": {},
   "outputs": [],
   "source": [
    "# Perform grid search to find the best hyperparameters\n",
    "with warnings.catch_warnings():\n",
    "    warnings.filterwarnings(\"ignore\", category=ConvergenceWarning)\n",
    "    grid_search = GridSearchCV(taxonomy_pipeline, parameters, cv=5)\n",
    "    grid_search.fit(X_train, y_taxonomy_train)"
   ]
  },
  {
   "cell_type": "code",
   "execution_count": 7,
   "id": "4eb58a1d",
   "metadata": {},
   "outputs": [
    {
     "name": "stdout",
     "output_type": "stream",
     "text": [
      "Best Hyperparameters:\n",
      "{'clf__estimator__C': 1, 'tfidf__ngram_range': (1, 2)}\n"
     ]
    }
   ],
   "source": [
    "# Print the best hyperparameters\n",
    "print(\"Best Hyperparameters:\")\n",
    "print(grid_search.best_params_)"
   ]
  },
  {
   "cell_type": "code",
   "execution_count": 8,
   "id": "5c4ff0e2",
   "metadata": {},
   "outputs": [],
   "source": [
    "# Get the best performing model\n",
    "best_taxonomy_pipeline = grid_search.best_estimator_"
   ]
  },
  {
   "cell_type": "code",
   "execution_count": 9,
   "id": "38ba05b5",
   "metadata": {},
   "outputs": [],
   "source": [
    "# Make predictions on the test set for taxonomy\n",
    "y_taxonomy_pred = best_taxonomy_pipeline.predict(X_test)"
   ]
  },
  {
   "cell_type": "code",
   "execution_count": 10,
   "id": "94798100",
   "metadata": {},
   "outputs": [
    {
     "name": "stdout",
     "output_type": "stream",
     "text": [
      "Accuracy for taxonomy prediction: 93.22%\n"
     ]
    }
   ],
   "source": [
    "# Calculate accuracy for taxonomy prediction\n",
    "taxonomy_accuracy = accuracy_score(y_taxonomy_test, y_taxonomy_pred)\n",
    "print(\"Accuracy for taxonomy prediction: {:.2f}%\".format(taxonomy_accuracy * 100))"
   ]
  },
  {
   "cell_type": "markdown",
   "id": "83edc447",
   "metadata": {},
   "source": [
    "# Testing"
   ]
  },
  {
   "cell_type": "code",
   "execution_count": 11,
   "id": "9a560d95",
   "metadata": {},
   "outputs": [
    {
     "name": "stdout",
     "output_type": "stream",
     "text": [
      "Predicted taxonomy: Remembering\n"
     ]
    }
   ],
   "source": [
    "# New question to predict\n",
    "new_question = \"What is the main function of the kidneys in the human body?\"\n",
    "\n",
    "# Use the trained model to predict the taxonomy\n",
    "predicted_taxonomy = best_taxonomy_pipeline.predict([new_question])\n",
    "\n",
    "print(\"Predicted taxonomy:\", predicted_taxonomy[0])\n"
   ]
  },
  {
   "cell_type": "code",
   "execution_count": 12,
   "id": "916fb6a3",
   "metadata": {},
   "outputs": [],
   "source": [
    "import os\n",
    "import pickle\n",
    "\n",
    "# Define the path to the \"Models\" folder\n",
    "models_folder = '../Models'\n",
    "\n",
    "# Create the \"Models\" folder if it doesn't exist\n",
    "if not os.path.exists(models_folder):\n",
    "    os.makedirs(models_folder)\n",
    "\n",
    "# Save the model to a file inside the \"models\" folder\n",
    "model_filename = os.path.join(models_folder, 'Taxonomy_model.pkl')\n",
    "with open(model_filename, 'wb') as file:\n",
    "    pickle.dump(best_taxonomy_pipeline, file)"
   ]
  },
  {
   "cell_type": "code",
   "execution_count": null,
   "id": "a0731a3c",
   "metadata": {},
   "outputs": [],
   "source": []
  }
 ],
 "metadata": {
  "kernelspec": {
   "display_name": "Python 3 (ipykernel)",
   "language": "python",
   "name": "python3"
  },
  "language_info": {
   "codemirror_mode": {
    "name": "ipython",
    "version": 3
   },
   "file_extension": ".py",
   "mimetype": "text/x-python",
   "name": "python",
   "nbconvert_exporter": "python",
   "pygments_lexer": "ipython3",
   "version": "3.11.3"
  }
 },
 "nbformat": 4,
 "nbformat_minor": 5
}
