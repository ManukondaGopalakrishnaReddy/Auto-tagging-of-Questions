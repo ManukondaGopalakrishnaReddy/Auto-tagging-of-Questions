{
 "cells": [
  {
   "cell_type": "markdown",
   "id": "8e178a1e",
   "metadata": {},
   "source": [
    "# Difficulty Level"
   ]
  },
  {
   "cell_type": "code",
   "execution_count": 1,
   "id": "f4f4a467",
   "metadata": {},
   "outputs": [
    {
     "name": "stderr",
     "output_type": "stream",
     "text": [
      "C:\\Users\\mgopa\\anaconda3\\lib\\site-packages\\numpy\\_distributor_init.py:30: UserWarning: loaded more than 1 DLL from .libs:\n",
      "C:\\Users\\mgopa\\anaconda3\\lib\\site-packages\\numpy\\.libs\\libopenblas.FB5AE2TYXYH2IJRDKGDGQ3XBKLKTF43H.gfortran-win_amd64.dll\n",
      "C:\\Users\\mgopa\\anaconda3\\lib\\site-packages\\numpy\\.libs\\libopenblas64__v0.3.23-gcc_10_3_0.dll\n",
      "  warnings.warn(\"loaded more than 1 DLL from .libs:\"\n"
     ]
    }
   ],
   "source": [
    "import pandas as pd\n",
    "from sklearn.model_selection import train_test_split\n",
    "from transformers import BertTokenizer, BertForSequenceClassification, AdamW\n",
    "import torch\n",
    "from torch.utils.data import TensorDataset, DataLoader, RandomSampler, SequentialSampler\n",
    "from tqdm import tqdm"
   ]
  },
  {
   "cell_type": "code",
   "execution_count": 2,
   "id": "6ef10204",
   "metadata": {},
   "outputs": [],
   "source": [
    "# Step 1: Load and preprocess the dataset\n",
    "df = pd.read_csv('Data.csv')  \n",
    "questions = df['Questions'].tolist()\n",
    "difficulty = df['Difficulty Level'].tolist()"
   ]
  },
  {
   "cell_type": "code",
   "execution_count": 3,
   "id": "91766560",
   "metadata": {},
   "outputs": [],
   "source": [
    "# Step 2: Split the dataset into train and test sets\n",
    "train_questions, test_questions, train_difficulty, test_difficulty = train_test_split(\n",
    "    questions, difficulty, test_size=0.2, random_state=42\n",
    ")"
   ]
  },
  {
   "cell_type": "code",
   "execution_count": 4,
   "id": "07a71f34",
   "metadata": {},
   "outputs": [
    {
     "data": {
      "application/vnd.jupyter.widget-view+json": {
       "model_id": "df53754098e9459d9cf1183018054bc9",
       "version_major": 2,
       "version_minor": 0
      },
      "text/plain": [
       "Downloading (…)solve/main/vocab.txt:   0%|          | 0.00/232k [00:00<?, ?B/s]"
      ]
     },
     "metadata": {},
     "output_type": "display_data"
    },
    {
     "name": "stderr",
     "output_type": "stream",
     "text": [
      "C:\\Users\\mgopa\\anaconda3\\lib\\site-packages\\huggingface_hub\\file_download.py:133: UserWarning: `huggingface_hub` cache-system uses symlinks by default to efficiently store duplicated files but your machine does not support them in C:\\Users\\mgopa\\.cache\\huggingface\\hub. Caching files will still work but in a degraded version that might require more space on your disk. This warning can be disabled by setting the `HF_HUB_DISABLE_SYMLINKS_WARNING` environment variable. For more details, see https://huggingface.co/docs/huggingface_hub/how-to-cache#limitations.\n",
      "To support symlinks on Windows, you either need to activate Developer Mode or to run Python as an administrator. In order to see activate developer mode, see this article: https://docs.microsoft.com/en-us/windows/apps/get-started/enable-your-device-for-development\n",
      "  warnings.warn(message)\n"
     ]
    },
    {
     "data": {
      "application/vnd.jupyter.widget-view+json": {
       "model_id": "223eca325b24499da4c5a34e53bf8469",
       "version_major": 2,
       "version_minor": 0
      },
      "text/plain": [
       "Downloading (…)okenizer_config.json:   0%|          | 0.00/28.0 [00:00<?, ?B/s]"
      ]
     },
     "metadata": {},
     "output_type": "display_data"
    },
    {
     "data": {
      "application/vnd.jupyter.widget-view+json": {
       "model_id": "4b560a0e34b640e6a3e1ecfaf484abf7",
       "version_major": 2,
       "version_minor": 0
      },
      "text/plain": [
       "Downloading (…)lve/main/config.json:   0%|          | 0.00/570 [00:00<?, ?B/s]"
      ]
     },
     "metadata": {},
     "output_type": "display_data"
    }
   ],
   "source": [
    "# Step 3: Load the BERT tokenizer\n",
    "tokenizer = BertTokenizer.from_pretrained('bert-base-uncased')"
   ]
  },
  {
   "cell_type": "code",
   "execution_count": 5,
   "id": "92f43e27",
   "metadata": {},
   "outputs": [],
   "source": [
    "# Step 4: Tokenize and encode the input sequences\n",
    "train_encodings = tokenizer(\n",
    "    train_questions,\n",
    "    truncation=True,\n",
    "    padding=True,\n",
    "    max_length=128,\n",
    "    add_special_tokens=True,\n",
    "    return_tensors='pt'\n",
    ")\n",
    "test_encodings = tokenizer(\n",
    "    test_questions,\n",
    "    truncation=True,\n",
    "    padding=True,\n",
    "    max_length=128,\n",
    "    add_special_tokens=True,\n",
    "    return_tensors='pt'\n",
    ")"
   ]
  },
  {
   "cell_type": "code",
   "execution_count": 6,
   "id": "944ee043",
   "metadata": {},
   "outputs": [],
   "source": [
    "# Step 5: Create PyTorch datasets\n",
    "difficulty_mapping = {\n",
    "    'Easy': 0,\n",
    "    'Medium': 1,\n",
    "    'Hard': 2\n",
    "}\n",
    "\n",
    "train_labels = torch.tensor([difficulty_mapping[label] for label in train_difficulty])\n",
    "test_labels = torch.tensor([difficulty_mapping[label] for label in test_difficulty])\n",
    "\n",
    "train_dataset = TensorDataset(train_encodings['input_ids'], train_encodings['attention_mask'], train_labels)\n",
    "test_dataset = TensorDataset(test_encodings['input_ids'], test_encodings['attention_mask'], test_labels)\n"
   ]
  },
  {
   "cell_type": "code",
   "execution_count": 7,
   "id": "4fbaa2cb",
   "metadata": {},
   "outputs": [
    {
     "data": {
      "application/vnd.jupyter.widget-view+json": {
       "model_id": "a69215548c914d089ebef1aac6646413",
       "version_major": 2,
       "version_minor": 0
      },
      "text/plain": [
       "Downloading pytorch_model.bin:   0%|          | 0.00/440M [00:00<?, ?B/s]"
      ]
     },
     "metadata": {},
     "output_type": "display_data"
    },
    {
     "name": "stderr",
     "output_type": "stream",
     "text": [
      "Some weights of the model checkpoint at bert-base-uncased were not used when initializing BertForSequenceClassification: ['cls.predictions.transform.LayerNorm.bias', 'cls.predictions.decoder.weight', 'cls.predictions.transform.dense.weight', 'cls.predictions.bias', 'cls.seq_relationship.weight', 'cls.predictions.transform.LayerNorm.weight', 'cls.predictions.transform.dense.bias', 'cls.seq_relationship.bias']\n",
      "- This IS expected if you are initializing BertForSequenceClassification from the checkpoint of a model trained on another task or with another architecture (e.g. initializing a BertForSequenceClassification model from a BertForPreTraining model).\n",
      "- This IS NOT expected if you are initializing BertForSequenceClassification from the checkpoint of a model that you expect to be exactly identical (initializing a BertForSequenceClassification model from a BertForSequenceClassification model).\n",
      "Some weights of BertForSequenceClassification were not initialized from the model checkpoint at bert-base-uncased and are newly initialized: ['classifier.weight', 'classifier.bias']\n",
      "You should probably TRAIN this model on a down-stream task to be able to use it for predictions and inference.\n",
      "C:\\Users\\mgopa\\anaconda3\\lib\\site-packages\\transformers\\optimization.py:391: FutureWarning: This implementation of AdamW is deprecated and will be removed in a future version. Use the PyTorch implementation torch.optim.AdamW instead, or set `no_deprecation_warning=True` to disable this warning\n",
      "  warnings.warn(\n"
     ]
    }
   ],
   "source": [
    "# Step 6: Define model and optimizer\n",
    "model = BertForSequenceClassification.from_pretrained('bert-base-uncased', num_labels=3)\n",
    "optimizer = AdamW(model.parameters(), lr=1e-5)"
   ]
  },
  {
   "cell_type": "code",
   "execution_count": 8,
   "id": "352ece96",
   "metadata": {},
   "outputs": [],
   "source": [
    "# Step 7: Create data loaders\n",
    "train_sampler = RandomSampler(train_dataset)\n",
    "test_sampler = SequentialSampler(test_dataset)\n",
    "train_dataloader = DataLoader(train_dataset, sampler=train_sampler, batch_size=16)\n",
    "test_dataloader = DataLoader(test_dataset, sampler=test_sampler, batch_size=16)"
   ]
  },
  {
   "cell_type": "code",
   "execution_count": 9,
   "id": "bb439944",
   "metadata": {},
   "outputs": [
    {
     "data": {
      "text/plain": [
       "BertForSequenceClassification(\n",
       "  (bert): BertModel(\n",
       "    (embeddings): BertEmbeddings(\n",
       "      (word_embeddings): Embedding(30522, 768, padding_idx=0)\n",
       "      (position_embeddings): Embedding(512, 768)\n",
       "      (token_type_embeddings): Embedding(2, 768)\n",
       "      (LayerNorm): LayerNorm((768,), eps=1e-12, elementwise_affine=True)\n",
       "      (dropout): Dropout(p=0.1, inplace=False)\n",
       "    )\n",
       "    (encoder): BertEncoder(\n",
       "      (layer): ModuleList(\n",
       "        (0-11): 12 x BertLayer(\n",
       "          (attention): BertAttention(\n",
       "            (self): BertSelfAttention(\n",
       "              (query): Linear(in_features=768, out_features=768, bias=True)\n",
       "              (key): Linear(in_features=768, out_features=768, bias=True)\n",
       "              (value): Linear(in_features=768, out_features=768, bias=True)\n",
       "              (dropout): Dropout(p=0.1, inplace=False)\n",
       "            )\n",
       "            (output): BertSelfOutput(\n",
       "              (dense): Linear(in_features=768, out_features=768, bias=True)\n",
       "              (LayerNorm): LayerNorm((768,), eps=1e-12, elementwise_affine=True)\n",
       "              (dropout): Dropout(p=0.1, inplace=False)\n",
       "            )\n",
       "          )\n",
       "          (intermediate): BertIntermediate(\n",
       "            (dense): Linear(in_features=768, out_features=3072, bias=True)\n",
       "            (intermediate_act_fn): GELUActivation()\n",
       "          )\n",
       "          (output): BertOutput(\n",
       "            (dense): Linear(in_features=3072, out_features=768, bias=True)\n",
       "            (LayerNorm): LayerNorm((768,), eps=1e-12, elementwise_affine=True)\n",
       "            (dropout): Dropout(p=0.1, inplace=False)\n",
       "          )\n",
       "        )\n",
       "      )\n",
       "    )\n",
       "    (pooler): BertPooler(\n",
       "      (dense): Linear(in_features=768, out_features=768, bias=True)\n",
       "      (activation): Tanh()\n",
       "    )\n",
       "  )\n",
       "  (dropout): Dropout(p=0.1, inplace=False)\n",
       "  (classifier): Linear(in_features=768, out_features=3, bias=True)\n",
       ")"
      ]
     },
     "execution_count": 9,
     "metadata": {},
     "output_type": "execute_result"
    }
   ],
   "source": [
    "# Step 8: Train the model\n",
    "device = torch.device('cuda') if torch.cuda.is_available() else torch.device('cpu')\n",
    "model.to(device)\n",
    "model.train()"
   ]
  },
  {
   "cell_type": "code",
   "execution_count": 10,
   "id": "c4dbdc6c",
   "metadata": {},
   "outputs": [
    {
     "name": "stderr",
     "output_type": "stream",
     "text": [
      "                                                                                                                                                           \r"
     ]
    },
    {
     "name": "stdout",
     "output_type": "stream",
     "text": [
      "Epoch 1 training loss: 0.677\n"
     ]
    },
    {
     "name": "stderr",
     "output_type": "stream",
     "text": [
      "                                                                                                                                                           \r"
     ]
    },
    {
     "name": "stdout",
     "output_type": "stream",
     "text": [
      "Epoch 2 training loss: 0.378\n"
     ]
    },
    {
     "name": "stderr",
     "output_type": "stream",
     "text": [
      "                                                                                                                                                           \r"
     ]
    },
    {
     "name": "stdout",
     "output_type": "stream",
     "text": [
      "Epoch 3 training loss: 0.287\n"
     ]
    },
    {
     "name": "stderr",
     "output_type": "stream",
     "text": [
      "                                                                                                                                                           \r"
     ]
    },
    {
     "name": "stdout",
     "output_type": "stream",
     "text": [
      "Epoch 4 training loss: 0.205\n"
     ]
    },
    {
     "name": "stderr",
     "output_type": "stream",
     "text": [
      "                                                                                                                                                           "
     ]
    },
    {
     "name": "stdout",
     "output_type": "stream",
     "text": [
      "Epoch 5 training loss: 0.129\n"
     ]
    },
    {
     "name": "stderr",
     "output_type": "stream",
     "text": [
      "\r"
     ]
    }
   ],
   "source": [
    "epochs = 5\n",
    "for epoch in range(epochs):\n",
    "    epoch_loss = 0.0\n",
    "    progress_bar = tqdm(train_dataloader, desc='Epoch {:1d}'.format(epoch + 1), leave=False, disable=False)\n",
    "    for batch in progress_bar:\n",
    "        input_ids = batch[0].to(device)\n",
    "        attention_mask = batch[1].to(device)\n",
    "        labels = batch[2].to(device)\n",
    "\n",
    "        model.zero_grad()\n",
    "\n",
    "        outputs = model(input_ids, attention_mask=attention_mask, labels=labels)\n",
    "        loss = outputs.loss\n",
    "        epoch_loss += loss.item()\n",
    "\n",
    "        loss.backward()\n",
    "        torch.nn.utils.clip_grad_norm_(model.parameters(), 1.0)\n",
    "        optimizer.step()\n",
    "\n",
    "        progress_bar.set_postfix({'training_loss': '{:.3f}'.format(loss.item() / len(batch))})\n",
    "\n",
    "    print('Epoch {} training loss: {:.3f}'.format(epoch + 1, epoch_loss / len(train_dataloader)))"
   ]
  },
  {
   "cell_type": "code",
   "execution_count": 11,
   "id": "53a90f59",
   "metadata": {},
   "outputs": [
    {
     "name": "stdout",
     "output_type": "stream",
     "text": [
      "Evaluation loss: 0.383\n"
     ]
    }
   ],
   "source": [
    "# Step 9: Evaluate the model\n",
    "model.eval()\n",
    "eval_loss = 0.0\n",
    "predictions = []\n",
    "for batch in test_dataloader:\n",
    "    input_ids = batch[0].to(device)\n",
    "    attention_mask = batch[1].to(device)\n",
    "    labels = batch[2].to(device)\n",
    "\n",
    "    with torch.no_grad():\n",
    "        outputs = model(input_ids, attention_mask=attention_mask, labels=labels)\n",
    "        loss = outputs.loss\n",
    "        logits = outputs.logits\n",
    "\n",
    "    eval_loss += loss.item()\n",
    "    predictions.extend(torch.argmax(logits, dim=1).tolist())\n",
    "\n",
    "eval_loss = eval_loss / len(test_dataloader)\n",
    "print('Evaluation loss: {:.3f}'.format(eval_loss))"
   ]
  },
  {
   "cell_type": "code",
   "execution_count": 12,
   "id": "deab258f",
   "metadata": {},
   "outputs": [],
   "source": [
    "# Step 10: Print predictions and actual labels\n",
    "\n",
    "predicted_difficulty = [list(difficulty_mapping.keys())[p] for p in predictions]\n",
    "actual_difficulty = [list(difficulty_mapping.keys())[t] for t in test_labels.tolist()]"
   ]
  },
  {
   "cell_type": "code",
   "execution_count": 13,
   "id": "14c9417d",
   "metadata": {},
   "outputs": [
    {
     "name": "stdout",
     "output_type": "stream",
     "text": [
      "Predicted difficulty: ['Easy', 'Easy', 'Medium', 'Easy', 'Medium', 'Easy', 'Easy', 'Hard', 'Medium', 'Easy', 'Medium', 'Easy', 'Medium', 'Easy', 'Medium', 'Medium', 'Easy', 'Medium', 'Easy', 'Medium', 'Easy', 'Easy', 'Medium', 'Medium', 'Medium', 'Medium', 'Easy', 'Medium', 'Easy', 'Medium', 'Medium', 'Medium', 'Medium', 'Easy', 'Medium', 'Easy', 'Medium', 'Medium', 'Easy', 'Medium', 'Hard', 'Medium', 'Medium', 'Hard', 'Medium', 'Easy', 'Medium', 'Medium', 'Medium', 'Easy', 'Medium', 'Medium', 'Medium', 'Easy', 'Easy', 'Easy', 'Medium', 'Medium', 'Medium', 'Easy', 'Easy', 'Medium', 'Easy', 'Easy', 'Medium', 'Medium', 'Medium', 'Medium', 'Medium', 'Medium', 'Easy', 'Easy', 'Medium', 'Medium', 'Medium', 'Medium', 'Hard', 'Easy', 'Hard', 'Easy', 'Medium', 'Medium', 'Easy', 'Hard', 'Easy', 'Medium', 'Easy', 'Hard', 'Medium', 'Medium', 'Medium', 'Easy', 'Easy', 'Medium', 'Medium', 'Easy', 'Easy', 'Easy', 'Medium', 'Easy', 'Medium', 'Medium', 'Medium', 'Easy', 'Easy', 'Medium', 'Easy', 'Medium', 'Medium', 'Medium', 'Medium', 'Medium', 'Medium', 'Easy', 'Medium', 'Medium', 'Hard', 'Medium', 'Medium', 'Medium', 'Medium', 'Medium', 'Easy', 'Medium', 'Easy', 'Medium', 'Medium', 'Medium', 'Medium', 'Medium', 'Easy', 'Hard', 'Medium', 'Medium', 'Easy', 'Medium', 'Medium', 'Medium', 'Hard', 'Hard', 'Hard', 'Easy', 'Medium', 'Medium', 'Medium', 'Easy', 'Easy', 'Medium', 'Easy', 'Medium', 'Easy', 'Hard', 'Easy', 'Medium', 'Medium', 'Medium', 'Medium', 'Easy', 'Easy', 'Medium', 'Medium', 'Hard', 'Easy', 'Medium', 'Medium', 'Medium', 'Easy', 'Medium', 'Easy', 'Easy', 'Medium', 'Hard', 'Easy', 'Medium', 'Medium', 'Medium', 'Medium', 'Medium', 'Medium', 'Hard', 'Medium', 'Hard', 'Medium', 'Easy', 'Hard', 'Medium', 'Easy', 'Easy', 'Easy', 'Medium', 'Medium', 'Medium', 'Medium', 'Easy', 'Medium', 'Easy', 'Easy', 'Medium', 'Medium', 'Easy', 'Easy', 'Medium', 'Easy', 'Medium', 'Easy', 'Hard', 'Medium', 'Medium', 'Easy', 'Hard', 'Medium', 'Medium', 'Medium', 'Medium', 'Hard', 'Medium', 'Medium', 'Easy', 'Medium', 'Medium', 'Easy', 'Medium', 'Easy', 'Hard', 'Easy', 'Easy', 'Medium', 'Easy', 'Medium', 'Easy', 'Easy', 'Medium', 'Easy', 'Easy', 'Easy', 'Hard', 'Hard', 'Medium', 'Medium', 'Medium', 'Easy', 'Easy', 'Medium', 'Easy', 'Medium', 'Easy', 'Easy', 'Hard', 'Easy', 'Medium', 'Medium', 'Medium', 'Medium', 'Medium', 'Medium', 'Medium', 'Easy', 'Medium', 'Medium', 'Hard', 'Medium', 'Medium', 'Easy', 'Medium', 'Medium', 'Medium', 'Medium', 'Easy', 'Easy', 'Medium', 'Medium', 'Hard', 'Medium', 'Easy', 'Easy', 'Hard', 'Easy', 'Medium', 'Easy', 'Easy', 'Easy', 'Medium', 'Medium', 'Medium', 'Easy', 'Medium', 'Easy', 'Easy', 'Medium', 'Medium', 'Hard', 'Easy', 'Easy', 'Easy', 'Medium', 'Easy', 'Medium', 'Easy', 'Easy', 'Easy', 'Hard', 'Medium', 'Easy', 'Medium', 'Medium', 'Medium', 'Easy', 'Easy', 'Medium', 'Medium', 'Easy', 'Medium', 'Medium', 'Medium', 'Medium', 'Medium', 'Medium', 'Easy', 'Easy', 'Medium', 'Hard', 'Hard', 'Hard', 'Medium', 'Medium', 'Easy', 'Hard', 'Medium', 'Hard', 'Easy', 'Hard', 'Hard', 'Medium', 'Easy', 'Hard', 'Medium', 'Medium', 'Hard', 'Medium', 'Medium', 'Medium', 'Medium', 'Easy', 'Medium', 'Medium', 'Hard', 'Medium', 'Medium', 'Easy', 'Hard', 'Medium', 'Medium', 'Medium', 'Medium', 'Hard', 'Easy', 'Medium', 'Medium', 'Easy', 'Easy', 'Hard', 'Hard', 'Hard', 'Medium', 'Easy', 'Medium', 'Easy', 'Hard', 'Medium', 'Easy', 'Medium', 'Easy', 'Medium', 'Medium', 'Hard', 'Medium', 'Medium', 'Easy', 'Medium', 'Easy', 'Medium', 'Medium', 'Easy', 'Hard', 'Medium', 'Hard', 'Easy', 'Medium', 'Easy', 'Hard', 'Medium', 'Hard', 'Medium', 'Medium', 'Medium', 'Medium', 'Hard', 'Easy', 'Easy', 'Medium', 'Medium', 'Medium', 'Medium', 'Medium', 'Easy', 'Medium', 'Medium', 'Medium', 'Medium', 'Medium', 'Easy', 'Easy', 'Hard', 'Hard', 'Hard', 'Medium', 'Easy', 'Hard', 'Medium', 'Medium', 'Easy', 'Easy', 'Hard', 'Medium', 'Medium', 'Easy', 'Easy', 'Medium', 'Easy', 'Medium', 'Medium', 'Medium', 'Hard', 'Easy', 'Hard', 'Medium', 'Medium', 'Medium', 'Hard', 'Easy', 'Hard', 'Medium', 'Easy', 'Easy', 'Medium', 'Medium', 'Medium', 'Easy', 'Medium', 'Medium', 'Easy', 'Medium', 'Medium', 'Medium', 'Medium', 'Medium', 'Easy', 'Easy', 'Medium', 'Medium', 'Easy', 'Medium', 'Easy', 'Medium', 'Medium', 'Hard', 'Easy', 'Medium', 'Easy', 'Medium', 'Easy', 'Medium', 'Hard', 'Medium', 'Easy', 'Easy', 'Easy', 'Medium', 'Medium', 'Easy', 'Easy', 'Hard', 'Medium', 'Easy', 'Medium', 'Medium', 'Medium', 'Hard', 'Easy', 'Medium', 'Medium', 'Medium', 'Medium', 'Hard', 'Medium', 'Medium', 'Easy', 'Medium', 'Medium', 'Easy', 'Easy', 'Hard', 'Medium', 'Easy', 'Easy', 'Hard', 'Medium', 'Easy', 'Easy', 'Medium', 'Medium', 'Easy', 'Easy', 'Medium', 'Medium', 'Easy', 'Medium', 'Easy', 'Medium', 'Easy', 'Medium', 'Hard', 'Medium', 'Medium', 'Hard', 'Medium', 'Hard', 'Hard', 'Hard', 'Medium', 'Medium', 'Easy', 'Easy', 'Hard', 'Medium', 'Medium', 'Medium', 'Hard', 'Hard', 'Medium', 'Easy', 'Easy', 'Easy', 'Easy', 'Easy', 'Easy', 'Medium', 'Easy', 'Medium', 'Easy', 'Easy', 'Medium', 'Easy', 'Hard', 'Easy', 'Medium', 'Easy', 'Medium', 'Hard', 'Hard', 'Hard', 'Medium', 'Hard', 'Medium', 'Easy', 'Hard', 'Medium', 'Medium', 'Easy', 'Medium', 'Medium', 'Medium', 'Easy', 'Medium', 'Easy', 'Easy', 'Medium', 'Hard', 'Medium', 'Medium', 'Medium', 'Easy', 'Easy', 'Easy', 'Medium', 'Easy', 'Medium', 'Medium', 'Easy', 'Medium', 'Easy', 'Hard', 'Easy', 'Medium', 'Medium', 'Easy', 'Easy', 'Easy', 'Medium', 'Medium', 'Medium', 'Easy', 'Easy', 'Medium', 'Medium', 'Easy', 'Easy', 'Easy', 'Hard', 'Medium', 'Easy', 'Medium', 'Hard', 'Medium', 'Medium', 'Easy', 'Medium', 'Easy', 'Easy', 'Medium', 'Easy', 'Medium', 'Easy', 'Medium', 'Medium', 'Easy', 'Easy', 'Medium', 'Easy', 'Easy', 'Medium', 'Easy', 'Hard', 'Hard', 'Medium', 'Medium', 'Hard', 'Medium', 'Medium', 'Medium', 'Easy', 'Easy', 'Medium', 'Easy', 'Medium', 'Easy', 'Medium', 'Medium', 'Medium', 'Hard', 'Medium', 'Easy', 'Medium', 'Easy', 'Easy', 'Hard', 'Hard', 'Medium', 'Easy', 'Medium', 'Medium', 'Medium', 'Easy', 'Easy', 'Easy', 'Hard', 'Medium', 'Medium', 'Medium', 'Medium', 'Easy', 'Medium', 'Hard', 'Easy', 'Medium', 'Medium', 'Easy', 'Medium', 'Easy', 'Easy', 'Medium', 'Hard', 'Easy', 'Easy', 'Easy', 'Easy', 'Medium', 'Easy', 'Medium', 'Medium', 'Easy', 'Hard', 'Easy', 'Medium', 'Easy', 'Medium', 'Easy', 'Easy', 'Medium', 'Easy', 'Medium', 'Medium', 'Easy', 'Easy', 'Easy', 'Easy', 'Medium', 'Medium', 'Hard', 'Easy', 'Easy', 'Easy', 'Easy', 'Easy', 'Easy', 'Medium', 'Medium', 'Easy', 'Easy', 'Easy', 'Easy', 'Medium', 'Easy', 'Medium', 'Medium', 'Medium', 'Medium', 'Hard', 'Hard', 'Easy', 'Easy', 'Medium', 'Medium', 'Medium', 'Medium', 'Easy', 'Medium', 'Medium', 'Easy', 'Medium', 'Hard', 'Medium', 'Medium', 'Medium', 'Medium', 'Medium', 'Medium', 'Medium', 'Medium', 'Medium', 'Medium', 'Easy', 'Easy', 'Easy', 'Medium', 'Easy', 'Easy', 'Medium', 'Medium', 'Easy', 'Medium', 'Easy', 'Easy', 'Easy', 'Easy', 'Easy', 'Medium', 'Easy', 'Medium', 'Medium', 'Easy', 'Medium', 'Easy', 'Medium', 'Easy', 'Medium', 'Medium', 'Medium', 'Medium', 'Easy', 'Easy', 'Medium', 'Easy', 'Medium', 'Medium', 'Medium', 'Easy', 'Easy', 'Medium', 'Easy', 'Easy', 'Medium', 'Medium', 'Easy', 'Medium', 'Hard', 'Easy', 'Medium', 'Medium', 'Medium', 'Medium', 'Hard', 'Easy', 'Easy', 'Medium', 'Easy', 'Medium', 'Medium', 'Hard', 'Medium', 'Hard', 'Medium', 'Medium', 'Medium', 'Medium', 'Easy', 'Medium', 'Medium', 'Easy', 'Medium', 'Easy', 'Easy', 'Medium', 'Easy', 'Medium', 'Medium', 'Easy', 'Medium', 'Easy', 'Hard', 'Medium', 'Medium', 'Medium', 'Hard', 'Hard', 'Easy', 'Medium', 'Hard', 'Medium', 'Easy', 'Easy', 'Medium', 'Medium', 'Hard', 'Easy', 'Medium', 'Hard', 'Medium', 'Medium', 'Medium', 'Easy', 'Medium', 'Easy', 'Medium', 'Medium', 'Hard', 'Hard', 'Medium', 'Easy', 'Hard', 'Easy', 'Medium', 'Medium', 'Medium', 'Easy', 'Medium', 'Medium', 'Medium', 'Easy', 'Medium', 'Hard', 'Hard', 'Medium', 'Easy', 'Hard', 'Medium', 'Medium', 'Medium', 'Medium', 'Medium', 'Hard', 'Easy', 'Medium', 'Medium', 'Medium', 'Medium', 'Easy', 'Easy', 'Easy', 'Easy', 'Easy', 'Easy', 'Medium', 'Easy', 'Medium', 'Medium', 'Medium', 'Easy', 'Easy', 'Easy', 'Medium', 'Easy', 'Easy', 'Easy', 'Easy', 'Medium', 'Medium', 'Medium', 'Medium', 'Easy', 'Hard', 'Medium', 'Easy', 'Medium', 'Medium', 'Easy', 'Medium', 'Medium', 'Hard', 'Medium', 'Hard', 'Hard', 'Medium', 'Easy', 'Easy', 'Medium', 'Medium', 'Easy', 'Medium', 'Easy', 'Easy', 'Easy', 'Medium', 'Hard', 'Medium', 'Medium', 'Medium', 'Medium', 'Medium', 'Medium', 'Medium', 'Easy', 'Hard', 'Medium', 'Medium', 'Medium', 'Easy', 'Easy', 'Medium', 'Easy', 'Medium', 'Hard', 'Medium', 'Easy', 'Medium', 'Medium', 'Easy', 'Medium', 'Medium', 'Medium', 'Easy', 'Medium', 'Easy', 'Medium', 'Easy', 'Hard', 'Medium', 'Easy', 'Easy', 'Hard', 'Hard', 'Medium', 'Easy', 'Hard', 'Easy', 'Medium', 'Easy', 'Medium', 'Medium', 'Easy', 'Medium', 'Easy', 'Easy', 'Medium', 'Medium', 'Easy', 'Medium', 'Medium', 'Easy', 'Medium', 'Hard', 'Hard', 'Medium', 'Medium', 'Medium', 'Easy', 'Medium', 'Easy', 'Easy', 'Medium', 'Easy', 'Medium', 'Easy', 'Medium', 'Hard', 'Easy', 'Easy', 'Medium', 'Easy', 'Medium', 'Easy', 'Medium', 'Medium', 'Hard', 'Easy', 'Medium', 'Hard', 'Easy', 'Medium', 'Medium', 'Medium', 'Medium', 'Easy', 'Medium', 'Medium', 'Medium', 'Easy', 'Easy', 'Medium', 'Easy', 'Medium', 'Medium', 'Medium', 'Medium', 'Medium', 'Easy', 'Easy', 'Medium', 'Easy', 'Medium', 'Medium', 'Hard', 'Easy', 'Hard', 'Medium', 'Medium', 'Medium', 'Easy', 'Easy', 'Easy', 'Medium', 'Easy', 'Medium', 'Medium', 'Medium', 'Medium', 'Easy', 'Hard', 'Medium', 'Easy', 'Medium', 'Medium', 'Medium', 'Easy', 'Hard', 'Easy', 'Medium', 'Medium', 'Medium', 'Medium', 'Medium', 'Medium', 'Medium', 'Medium', 'Hard', 'Medium', 'Medium', 'Medium', 'Easy', 'Easy', 'Easy', 'Hard', 'Easy', 'Medium', 'Easy', 'Easy', 'Medium', 'Hard', 'Easy', 'Medium', 'Easy']\n",
      "Actual difficulty: ['Easy', 'Easy', 'Medium', 'Easy', 'Medium', 'Easy', 'Easy', 'Medium', 'Easy', 'Easy', 'Medium', 'Easy', 'Medium', 'Easy', 'Medium', 'Medium', 'Easy', 'Medium', 'Easy', 'Medium', 'Easy', 'Easy', 'Medium', 'Medium', 'Medium', 'Medium', 'Easy', 'Medium', 'Easy', 'Medium', 'Medium', 'Medium', 'Medium', 'Easy', 'Medium', 'Easy', 'Medium', 'Easy', 'Easy', 'Medium', 'Hard', 'Medium', 'Medium', 'Hard', 'Medium', 'Easy', 'Medium', 'Medium', 'Easy', 'Easy', 'Medium', 'Medium', 'Medium', 'Easy', 'Easy', 'Easy', 'Medium', 'Medium', 'Medium', 'Easy', 'Medium', 'Medium', 'Easy', 'Easy', 'Medium', 'Medium', 'Medium', 'Medium', 'Medium', 'Medium', 'Easy', 'Easy', 'Medium', 'Medium', 'Medium', 'Medium', 'Medium', 'Easy', 'Hard', 'Easy', 'Medium', 'Medium', 'Easy', 'Hard', 'Easy', 'Medium', 'Easy', 'Hard', 'Medium', 'Medium', 'Medium', 'Easy', 'Easy', 'Medium', 'Medium', 'Easy', 'Easy', 'Easy', 'Medium', 'Easy', 'Medium', 'Medium', 'Medium', 'Easy', 'Medium', 'Medium', 'Easy', 'Medium', 'Medium', 'Medium', 'Medium', 'Easy', 'Medium', 'Easy', 'Medium', 'Medium', 'Hard', 'Medium', 'Medium', 'Medium', 'Hard', 'Medium', 'Easy', 'Medium', 'Easy', 'Medium', 'Medium', 'Medium', 'Medium', 'Medium', 'Easy', 'Hard', 'Medium', 'Medium', 'Easy', 'Hard', 'Medium', 'Medium', 'Hard', 'Medium', 'Hard', 'Easy', 'Medium', 'Medium', 'Medium', 'Easy', 'Easy', 'Medium', 'Easy', 'Medium', 'Easy', 'Medium', 'Easy', 'Medium', 'Medium', 'Medium', 'Medium', 'Easy', 'Easy', 'Medium', 'Medium', 'Hard', 'Medium', 'Medium', 'Medium', 'Medium', 'Easy', 'Medium', 'Easy', 'Easy', 'Medium', 'Hard', 'Easy', 'Medium', 'Medium', 'Medium', 'Medium', 'Medium', 'Medium', 'Hard', 'Medium', 'Medium', 'Medium', 'Medium', 'Hard', 'Medium', 'Easy', 'Easy', 'Easy', 'Medium', 'Medium', 'Medium', 'Medium', 'Easy', 'Medium', 'Easy', 'Easy', 'Easy', 'Medium', 'Easy', 'Easy', 'Medium', 'Easy', 'Medium', 'Easy', 'Hard', 'Medium', 'Medium', 'Easy', 'Hard', 'Medium', 'Medium', 'Medium', 'Medium', 'Hard', 'Hard', 'Medium', 'Easy', 'Medium', 'Medium', 'Easy', 'Hard', 'Easy', 'Hard', 'Easy', 'Easy', 'Hard', 'Easy', 'Medium', 'Easy', 'Medium', 'Medium', 'Easy', 'Easy', 'Easy', 'Hard', 'Hard', 'Medium', 'Medium', 'Easy', 'Easy', 'Easy', 'Hard', 'Easy', 'Medium', 'Easy', 'Easy', 'Hard', 'Easy', 'Medium', 'Medium', 'Hard', 'Medium', 'Medium', 'Medium', 'Medium', 'Easy', 'Medium', 'Medium', 'Hard', 'Medium', 'Medium', 'Easy', 'Medium', 'Medium', 'Medium', 'Medium', 'Medium', 'Easy', 'Medium', 'Medium', 'Medium', 'Hard', 'Easy', 'Medium', 'Hard', 'Easy', 'Medium', 'Easy', 'Easy', 'Easy', 'Hard', 'Medium', 'Medium', 'Easy', 'Medium', 'Easy', 'Easy', 'Hard', 'Medium', 'Medium', 'Medium', 'Medium', 'Easy', 'Medium', 'Easy', 'Medium', 'Easy', 'Easy', 'Easy', 'Hard', 'Medium', 'Easy', 'Medium', 'Medium', 'Medium', 'Easy', 'Easy', 'Medium', 'Medium', 'Easy', 'Easy', 'Medium', 'Medium', 'Hard', 'Medium', 'Medium', 'Easy', 'Easy', 'Medium', 'Hard', 'Hard', 'Hard', 'Medium', 'Medium', 'Hard', 'Hard', 'Medium', 'Hard', 'Easy', 'Medium', 'Hard', 'Medium', 'Easy', 'Hard', 'Medium', 'Medium', 'Hard', 'Easy', 'Medium', 'Medium', 'Medium', 'Easy', 'Medium', 'Medium', 'Medium', 'Medium', 'Medium', 'Easy', 'Medium', 'Medium', 'Medium', 'Medium', 'Medium', 'Hard', 'Easy', 'Medium', 'Medium', 'Easy', 'Easy', 'Medium', 'Hard', 'Hard', 'Hard', 'Easy', 'Medium', 'Easy', 'Hard', 'Medium', 'Easy', 'Medium', 'Medium', 'Medium', 'Medium', 'Hard', 'Medium', 'Medium', 'Easy', 'Medium', 'Medium', 'Medium', 'Medium', 'Easy', 'Hard', 'Medium', 'Hard', 'Easy', 'Hard', 'Easy', 'Hard', 'Medium', 'Hard', 'Hard', 'Medium', 'Medium', 'Medium', 'Hard', 'Easy', 'Easy', 'Medium', 'Medium', 'Medium', 'Medium', 'Medium', 'Easy', 'Medium', 'Medium', 'Medium', 'Medium', 'Medium', 'Medium', 'Easy', 'Hard', 'Hard', 'Hard', 'Hard', 'Easy', 'Hard', 'Medium', 'Medium', 'Easy', 'Easy', 'Hard', 'Medium', 'Medium', 'Easy', 'Easy', 'Medium', 'Easy', 'Medium', 'Medium', 'Hard', 'Medium', 'Easy', 'Hard', 'Medium', 'Medium', 'Medium', 'Medium', 'Easy', 'Hard', 'Medium', 'Easy', 'Medium', 'Medium', 'Medium', 'Medium', 'Easy', 'Medium', 'Medium', 'Easy', 'Hard', 'Hard', 'Medium', 'Medium', 'Medium', 'Easy', 'Easy', 'Medium', 'Medium', 'Easy', 'Medium', 'Easy', 'Medium', 'Medium', 'Hard', 'Easy', 'Medium', 'Easy', 'Easy', 'Hard', 'Medium', 'Medium', 'Medium', 'Easy', 'Easy', 'Hard', 'Medium', 'Medium', 'Easy', 'Easy', 'Hard', 'Medium', 'Easy', 'Medium', 'Hard', 'Medium', 'Hard', 'Easy', 'Medium', 'Medium', 'Medium', 'Medium', 'Hard', 'Medium', 'Medium', 'Easy', 'Medium', 'Medium', 'Easy', 'Easy', 'Hard', 'Medium', 'Easy', 'Easy', 'Hard', 'Hard', 'Easy', 'Medium', 'Medium', 'Medium', 'Easy', 'Easy', 'Medium', 'Medium', 'Easy', 'Medium', 'Easy', 'Medium', 'Easy', 'Medium', 'Hard', 'Medium', 'Medium', 'Hard', 'Medium', 'Hard', 'Hard', 'Hard', 'Medium', 'Medium', 'Easy', 'Easy', 'Hard', 'Hard', 'Medium', 'Medium', 'Hard', 'Hard', 'Medium', 'Easy', 'Easy', 'Easy', 'Easy', 'Easy', 'Easy', 'Medium', 'Medium', 'Medium', 'Easy', 'Easy', 'Medium', 'Easy', 'Hard', 'Easy', 'Medium', 'Easy', 'Medium', 'Easy', 'Hard', 'Hard', 'Medium', 'Hard', 'Medium', 'Easy', 'Hard', 'Medium', 'Medium', 'Easy', 'Medium', 'Medium', 'Hard', 'Easy', 'Medium', 'Medium', 'Easy', 'Medium', 'Hard', 'Medium', 'Medium', 'Medium', 'Easy', 'Easy', 'Easy', 'Hard', 'Easy', 'Easy', 'Medium', 'Easy', 'Medium', 'Easy', 'Hard', 'Easy', 'Medium', 'Medium', 'Easy', 'Easy', 'Easy', 'Medium', 'Medium', 'Medium', 'Easy', 'Easy', 'Medium', 'Medium', 'Easy', 'Medium', 'Easy', 'Hard', 'Medium', 'Easy', 'Medium', 'Hard', 'Medium', 'Medium', 'Easy', 'Medium', 'Easy', 'Easy', 'Medium', 'Easy', 'Hard', 'Easy', 'Medium', 'Medium', 'Easy', 'Easy', 'Medium', 'Easy', 'Easy', 'Medium', 'Easy', 'Hard', 'Hard', 'Medium', 'Medium', 'Hard', 'Medium', 'Medium', 'Medium', 'Easy', 'Easy', 'Medium', 'Easy', 'Medium', 'Easy', 'Hard', 'Medium', 'Medium', 'Hard', 'Medium', 'Easy', 'Medium', 'Easy', 'Easy', 'Hard', 'Medium', 'Medium', 'Easy', 'Medium', 'Medium', 'Medium', 'Easy', 'Easy', 'Easy', 'Hard', 'Medium', 'Easy', 'Medium', 'Medium', 'Easy', 'Medium', 'Medium', 'Easy', 'Medium', 'Medium', 'Easy', 'Medium', 'Easy', 'Easy', 'Medium', 'Hard', 'Hard', 'Easy', 'Easy', 'Easy', 'Medium', 'Medium', 'Medium', 'Easy', 'Easy', 'Hard', 'Easy', 'Medium', 'Easy', 'Medium', 'Easy', 'Easy', 'Medium', 'Easy', 'Medium', 'Medium', 'Easy', 'Easy', 'Easy', 'Easy', 'Medium', 'Medium', 'Hard', 'Easy', 'Easy', 'Easy', 'Easy', 'Easy', 'Easy', 'Medium', 'Medium', 'Easy', 'Easy', 'Easy', 'Easy', 'Medium', 'Easy', 'Medium', 'Hard', 'Medium', 'Medium', 'Medium', 'Medium', 'Easy', 'Easy', 'Medium', 'Medium', 'Medium', 'Hard', 'Easy', 'Easy', 'Hard', 'Easy', 'Medium', 'Hard', 'Medium', 'Medium', 'Medium', 'Medium', 'Medium', 'Medium', 'Medium', 'Medium', 'Medium', 'Medium', 'Easy', 'Easy', 'Easy', 'Medium', 'Easy', 'Easy', 'Medium', 'Medium', 'Easy', 'Medium', 'Easy', 'Easy', 'Easy', 'Easy', 'Easy', 'Hard', 'Easy', 'Medium', 'Medium', 'Easy', 'Medium', 'Easy', 'Medium', 'Easy', 'Easy', 'Medium', 'Medium', 'Medium', 'Easy', 'Easy', 'Medium', 'Easy', 'Medium', 'Medium', 'Medium', 'Easy', 'Easy', 'Medium', 'Hard', 'Easy', 'Medium', 'Medium', 'Easy', 'Medium', 'Hard', 'Easy', 'Medium', 'Medium', 'Medium', 'Medium', 'Hard', 'Easy', 'Easy', 'Medium', 'Easy', 'Medium', 'Medium', 'Medium', 'Medium', 'Hard', 'Medium', 'Medium', 'Medium', 'Easy', 'Easy', 'Medium', 'Hard', 'Easy', 'Medium', 'Easy', 'Easy', 'Medium', 'Easy', 'Medium', 'Medium', 'Easy', 'Medium', 'Easy', 'Hard', 'Medium', 'Medium', 'Easy', 'Hard', 'Hard', 'Easy', 'Medium', 'Medium', 'Medium', 'Easy', 'Easy', 'Medium', 'Medium', 'Hard', 'Easy', 'Hard', 'Hard', 'Medium', 'Medium', 'Medium', 'Easy', 'Hard', 'Easy', 'Medium', 'Medium', 'Hard', 'Hard', 'Medium', 'Easy', 'Hard', 'Easy', 'Hard', 'Medium', 'Medium', 'Easy', 'Medium', 'Medium', 'Medium', 'Easy', 'Medium', 'Hard', 'Hard', 'Medium', 'Easy', 'Hard', 'Medium', 'Medium', 'Medium', 'Medium', 'Medium', 'Medium', 'Easy', 'Medium', 'Medium', 'Medium', 'Medium', 'Easy', 'Easy', 'Easy', 'Easy', 'Easy', 'Easy', 'Medium', 'Easy', 'Medium', 'Medium', 'Medium', 'Easy', 'Easy', 'Easy', 'Medium', 'Easy', 'Easy', 'Easy', 'Easy', 'Medium', 'Medium', 'Medium', 'Medium', 'Easy', 'Hard', 'Easy', 'Easy', 'Medium', 'Medium', 'Easy', 'Medium', 'Medium', 'Hard', 'Medium', 'Easy', 'Medium', 'Medium', 'Easy', 'Easy', 'Medium', 'Medium', 'Medium', 'Medium', 'Easy', 'Easy', 'Easy', 'Medium', 'Hard', 'Medium', 'Medium', 'Hard', 'Medium', 'Medium', 'Medium', 'Hard', 'Easy', 'Hard', 'Hard', 'Medium', 'Medium', 'Easy', 'Easy', 'Medium', 'Easy', 'Medium', 'Medium', 'Hard', 'Easy', 'Medium', 'Medium', 'Easy', 'Medium', 'Medium', 'Medium', 'Easy', 'Medium', 'Easy', 'Medium', 'Easy', 'Hard', 'Medium', 'Easy', 'Easy', 'Hard', 'Hard', 'Medium', 'Easy', 'Medium', 'Easy', 'Medium', 'Easy', 'Medium', 'Medium', 'Easy', 'Medium', 'Easy', 'Easy', 'Medium', 'Medium', 'Easy', 'Medium', 'Medium', 'Easy', 'Medium', 'Medium', 'Medium', 'Medium', 'Medium', 'Medium', 'Easy', 'Medium', 'Medium', 'Easy', 'Medium', 'Easy', 'Medium', 'Easy', 'Medium', 'Medium', 'Easy', 'Easy', 'Medium', 'Easy', 'Medium', 'Easy', 'Medium', 'Medium', 'Hard', 'Easy', 'Medium', 'Medium', 'Easy', 'Medium', 'Easy', 'Medium', 'Medium', 'Easy', 'Medium', 'Medium', 'Hard', 'Easy', 'Easy', 'Medium', 'Easy', 'Medium', 'Medium', 'Hard', 'Medium', 'Medium', 'Easy', 'Easy', 'Medium', 'Easy', 'Medium', 'Medium', 'Hard', 'Easy', 'Hard', 'Medium', 'Medium', 'Medium', 'Easy', 'Easy', 'Easy', 'Medium', 'Easy', 'Medium', 'Medium', 'Hard', 'Medium', 'Easy', 'Hard', 'Medium', 'Easy', 'Medium', 'Medium', 'Medium', 'Easy', 'Hard', 'Easy', 'Easy', 'Medium', 'Medium', 'Medium', 'Medium', 'Medium', 'Medium', 'Medium', 'Hard', 'Easy', 'Medium', 'Medium', 'Easy', 'Easy', 'Easy', 'Hard', 'Easy', 'Medium', 'Easy', 'Easy', 'Medium', 'Hard', 'Easy', 'Medium', 'Easy']\n"
     ]
    }
   ],
   "source": [
    "temp=pd.DataFrame({\n",
    "    'Actual difficulty':actual_difficulty,\n",
    "    'Predicted difficulty':predicted_difficulty\n",
    "})"
   ]
  },
  {
   "cell_type": "code",
   "execution_count": 14,
   "id": "39bb670f",
   "metadata": {},
   "outputs": [
    {
     "data": {
      "text/html": [
       "<div>\n",
       "<style scoped>\n",
       "    .dataframe tbody tr th:only-of-type {\n",
       "        vertical-align: middle;\n",
       "    }\n",
       "\n",
       "    .dataframe tbody tr th {\n",
       "        vertical-align: top;\n",
       "    }\n",
       "\n",
       "    .dataframe thead th {\n",
       "        text-align: right;\n",
       "    }\n",
       "</style>\n",
       "<table border=\"1\" class=\"dataframe\">\n",
       "  <thead>\n",
       "    <tr style=\"text-align: right;\">\n",
       "      <th></th>\n",
       "      <th>Actual difficulty</th>\n",
       "      <th>Predicted difficulty</th>\n",
       "    </tr>\n",
       "  </thead>\n",
       "  <tbody>\n",
       "    <tr>\n",
       "      <th>0</th>\n",
       "      <td>Easy</td>\n",
       "      <td>Easy</td>\n",
       "    </tr>\n",
       "    <tr>\n",
       "      <th>1</th>\n",
       "      <td>Easy</td>\n",
       "      <td>Easy</td>\n",
       "    </tr>\n",
       "    <tr>\n",
       "      <th>2</th>\n",
       "      <td>Medium</td>\n",
       "      <td>Medium</td>\n",
       "    </tr>\n",
       "    <tr>\n",
       "      <th>3</th>\n",
       "      <td>Easy</td>\n",
       "      <td>Easy</td>\n",
       "    </tr>\n",
       "    <tr>\n",
       "      <th>4</th>\n",
       "      <td>Medium</td>\n",
       "      <td>Medium</td>\n",
       "    </tr>\n",
       "  </tbody>\n",
       "</table>\n",
       "</div>"
      ],
      "text/plain": [
       "  Actual difficulty Predicted difficulty\n",
       "0              Easy                 Easy\n",
       "1              Easy                 Easy\n",
       "2            Medium               Medium\n",
       "3              Easy                 Easy\n",
       "4            Medium               Medium"
      ]
     },
     "execution_count": 14,
     "metadata": {},
     "output_type": "execute_result"
    }
   ],
   "source": [
    "temp.head()"
   ]
  },
  {
   "cell_type": "code",
   "execution_count": 15,
   "id": "2fcc62fb",
   "metadata": {},
   "outputs": [
    {
     "name": "stdout",
     "output_type": "stream",
     "text": [
      "115\n"
     ]
    }
   ],
   "source": [
    "# Dismathched items count out of 302\n",
    "count=0\n",
    "for i in range(len(actual_difficulty)):\n",
    "    if actual_difficulty[i]!=predicted_difficulty[i]:\n",
    "        count+=1\n",
    "print(count)"
   ]
  },
  {
   "cell_type": "code",
   "execution_count": 16,
   "id": "bf31ab19",
   "metadata": {},
   "outputs": [
    {
     "name": "stdout",
     "output_type": "stream",
     "text": [
      "BertForSequenceClassification(\n",
      "  (bert): BertModel(\n",
      "    (embeddings): BertEmbeddings(\n",
      "      (word_embeddings): Embedding(30522, 768, padding_idx=0)\n",
      "      (position_embeddings): Embedding(512, 768)\n",
      "      (token_type_embeddings): Embedding(2, 768)\n",
      "      (LayerNorm): LayerNorm((768,), eps=1e-12, elementwise_affine=True)\n",
      "      (dropout): Dropout(p=0.1, inplace=False)\n",
      "    )\n",
      "    (encoder): BertEncoder(\n",
      "      (layer): ModuleList(\n",
      "        (0-11): 12 x BertLayer(\n",
      "          (attention): BertAttention(\n",
      "            (self): BertSelfAttention(\n",
      "              (query): Linear(in_features=768, out_features=768, bias=True)\n",
      "              (key): Linear(in_features=768, out_features=768, bias=True)\n",
      "              (value): Linear(in_features=768, out_features=768, bias=True)\n",
      "              (dropout): Dropout(p=0.1, inplace=False)\n",
      "            )\n",
      "            (output): BertSelfOutput(\n",
      "              (dense): Linear(in_features=768, out_features=768, bias=True)\n",
      "              (LayerNorm): LayerNorm((768,), eps=1e-12, elementwise_affine=True)\n",
      "              (dropout): Dropout(p=0.1, inplace=False)\n",
      "            )\n",
      "          )\n",
      "          (intermediate): BertIntermediate(\n",
      "            (dense): Linear(in_features=768, out_features=3072, bias=True)\n",
      "            (intermediate_act_fn): GELUActivation()\n",
      "          )\n",
      "          (output): BertOutput(\n",
      "            (dense): Linear(in_features=3072, out_features=768, bias=True)\n",
      "            (LayerNorm): LayerNorm((768,), eps=1e-12, elementwise_affine=True)\n",
      "            (dropout): Dropout(p=0.1, inplace=False)\n",
      "          )\n",
      "        )\n",
      "      )\n",
      "    )\n",
      "    (pooler): BertPooler(\n",
      "      (dense): Linear(in_features=768, out_features=768, bias=True)\n",
      "      (activation): Tanh()\n",
      "    )\n",
      "  )\n",
      "  (dropout): Dropout(p=0.1, inplace=False)\n",
      "  (classifier): Linear(in_features=768, out_features=3, bias=True)\n",
      ")\n"
     ]
    }
   ],
   "source": [
    "# Model architecture \n",
    "print(model)"
   ]
  },
  {
   "cell_type": "code",
   "execution_count": 17,
   "id": "3b911902",
   "metadata": {},
   "outputs": [
    {
     "name": "stdout",
     "output_type": "stream",
     "text": [
      "Total Parameters:  109484547\n"
     ]
    }
   ],
   "source": [
    "# Model parameters\n",
    "total_params = sum(p.numel() for p in model.parameters())\n",
    "print(\"Total Parameters: \", total_params)"
   ]
  },
  {
   "cell_type": "code",
   "execution_count": 18,
   "id": "7f00bdb4",
   "metadata": {},
   "outputs": [
    {
     "name": "stdout",
     "output_type": "stream",
     "text": [
      "Model Configuration:  BertConfig {\n",
      "  \"_name_or_path\": \"bert-base-uncased\",\n",
      "  \"architectures\": [\n",
      "    \"BertForMaskedLM\"\n",
      "  ],\n",
      "  \"attention_probs_dropout_prob\": 0.1,\n",
      "  \"classifier_dropout\": null,\n",
      "  \"gradient_checkpointing\": false,\n",
      "  \"hidden_act\": \"gelu\",\n",
      "  \"hidden_dropout_prob\": 0.1,\n",
      "  \"hidden_size\": 768,\n",
      "  \"id2label\": {\n",
      "    \"0\": \"LABEL_0\",\n",
      "    \"1\": \"LABEL_1\",\n",
      "    \"2\": \"LABEL_2\"\n",
      "  },\n",
      "  \"initializer_range\": 0.02,\n",
      "  \"intermediate_size\": 3072,\n",
      "  \"label2id\": {\n",
      "    \"LABEL_0\": 0,\n",
      "    \"LABEL_1\": 1,\n",
      "    \"LABEL_2\": 2\n",
      "  },\n",
      "  \"layer_norm_eps\": 1e-12,\n",
      "  \"max_position_embeddings\": 512,\n",
      "  \"model_type\": \"bert\",\n",
      "  \"num_attention_heads\": 12,\n",
      "  \"num_hidden_layers\": 12,\n",
      "  \"pad_token_id\": 0,\n",
      "  \"position_embedding_type\": \"absolute\",\n",
      "  \"problem_type\": \"single_label_classification\",\n",
      "  \"transformers_version\": \"4.28.1\",\n",
      "  \"type_vocab_size\": 2,\n",
      "  \"use_cache\": true,\n",
      "  \"vocab_size\": 30522\n",
      "}\n",
      "\n"
     ]
    }
   ],
   "source": [
    "# Model configuration\n",
    "config = model.config\n",
    "print(\"Model Configuration: \", config)"
   ]
  },
  {
   "cell_type": "code",
   "execution_count": 19,
   "id": "b5308ec9",
   "metadata": {},
   "outputs": [
    {
     "name": "stdout",
     "output_type": "stream",
     "text": [
      "bert.embeddings.word_embeddings.weight torch.Size([30522, 768])\n",
      "bert.embeddings.position_embeddings.weight torch.Size([512, 768])\n",
      "bert.embeddings.token_type_embeddings.weight torch.Size([2, 768])\n",
      "bert.embeddings.LayerNorm.weight torch.Size([768])\n",
      "bert.embeddings.LayerNorm.bias torch.Size([768])\n",
      "bert.encoder.layer.0.attention.self.query.weight torch.Size([768, 768])\n",
      "bert.encoder.layer.0.attention.self.query.bias torch.Size([768])\n",
      "bert.encoder.layer.0.attention.self.key.weight torch.Size([768, 768])\n",
      "bert.encoder.layer.0.attention.self.key.bias torch.Size([768])\n",
      "bert.encoder.layer.0.attention.self.value.weight torch.Size([768, 768])\n",
      "bert.encoder.layer.0.attention.self.value.bias torch.Size([768])\n",
      "bert.encoder.layer.0.attention.output.dense.weight torch.Size([768, 768])\n",
      "bert.encoder.layer.0.attention.output.dense.bias torch.Size([768])\n",
      "bert.encoder.layer.0.attention.output.LayerNorm.weight torch.Size([768])\n",
      "bert.encoder.layer.0.attention.output.LayerNorm.bias torch.Size([768])\n",
      "bert.encoder.layer.0.intermediate.dense.weight torch.Size([3072, 768])\n",
      "bert.encoder.layer.0.intermediate.dense.bias torch.Size([3072])\n",
      "bert.encoder.layer.0.output.dense.weight torch.Size([768, 3072])\n",
      "bert.encoder.layer.0.output.dense.bias torch.Size([768])\n",
      "bert.encoder.layer.0.output.LayerNorm.weight torch.Size([768])\n",
      "bert.encoder.layer.0.output.LayerNorm.bias torch.Size([768])\n",
      "bert.encoder.layer.1.attention.self.query.weight torch.Size([768, 768])\n",
      "bert.encoder.layer.1.attention.self.query.bias torch.Size([768])\n",
      "bert.encoder.layer.1.attention.self.key.weight torch.Size([768, 768])\n",
      "bert.encoder.layer.1.attention.self.key.bias torch.Size([768])\n",
      "bert.encoder.layer.1.attention.self.value.weight torch.Size([768, 768])\n",
      "bert.encoder.layer.1.attention.self.value.bias torch.Size([768])\n",
      "bert.encoder.layer.1.attention.output.dense.weight torch.Size([768, 768])\n",
      "bert.encoder.layer.1.attention.output.dense.bias torch.Size([768])\n",
      "bert.encoder.layer.1.attention.output.LayerNorm.weight torch.Size([768])\n",
      "bert.encoder.layer.1.attention.output.LayerNorm.bias torch.Size([768])\n",
      "bert.encoder.layer.1.intermediate.dense.weight torch.Size([3072, 768])\n",
      "bert.encoder.layer.1.intermediate.dense.bias torch.Size([3072])\n",
      "bert.encoder.layer.1.output.dense.weight torch.Size([768, 3072])\n",
      "bert.encoder.layer.1.output.dense.bias torch.Size([768])\n",
      "bert.encoder.layer.1.output.LayerNorm.weight torch.Size([768])\n",
      "bert.encoder.layer.1.output.LayerNorm.bias torch.Size([768])\n",
      "bert.encoder.layer.2.attention.self.query.weight torch.Size([768, 768])\n",
      "bert.encoder.layer.2.attention.self.query.bias torch.Size([768])\n",
      "bert.encoder.layer.2.attention.self.key.weight torch.Size([768, 768])\n",
      "bert.encoder.layer.2.attention.self.key.bias torch.Size([768])\n",
      "bert.encoder.layer.2.attention.self.value.weight torch.Size([768, 768])\n",
      "bert.encoder.layer.2.attention.self.value.bias torch.Size([768])\n",
      "bert.encoder.layer.2.attention.output.dense.weight torch.Size([768, 768])\n",
      "bert.encoder.layer.2.attention.output.dense.bias torch.Size([768])\n",
      "bert.encoder.layer.2.attention.output.LayerNorm.weight torch.Size([768])\n",
      "bert.encoder.layer.2.attention.output.LayerNorm.bias torch.Size([768])\n",
      "bert.encoder.layer.2.intermediate.dense.weight torch.Size([3072, 768])\n",
      "bert.encoder.layer.2.intermediate.dense.bias torch.Size([3072])\n",
      "bert.encoder.layer.2.output.dense.weight torch.Size([768, 3072])\n",
      "bert.encoder.layer.2.output.dense.bias torch.Size([768])\n",
      "bert.encoder.layer.2.output.LayerNorm.weight torch.Size([768])\n",
      "bert.encoder.layer.2.output.LayerNorm.bias torch.Size([768])\n",
      "bert.encoder.layer.3.attention.self.query.weight torch.Size([768, 768])\n",
      "bert.encoder.layer.3.attention.self.query.bias torch.Size([768])\n",
      "bert.encoder.layer.3.attention.self.key.weight torch.Size([768, 768])\n",
      "bert.encoder.layer.3.attention.self.key.bias torch.Size([768])\n",
      "bert.encoder.layer.3.attention.self.value.weight torch.Size([768, 768])\n",
      "bert.encoder.layer.3.attention.self.value.bias torch.Size([768])\n",
      "bert.encoder.layer.3.attention.output.dense.weight torch.Size([768, 768])\n",
      "bert.encoder.layer.3.attention.output.dense.bias torch.Size([768])\n",
      "bert.encoder.layer.3.attention.output.LayerNorm.weight torch.Size([768])\n",
      "bert.encoder.layer.3.attention.output.LayerNorm.bias torch.Size([768])\n",
      "bert.encoder.layer.3.intermediate.dense.weight torch.Size([3072, 768])\n",
      "bert.encoder.layer.3.intermediate.dense.bias torch.Size([3072])\n",
      "bert.encoder.layer.3.output.dense.weight torch.Size([768, 3072])\n",
      "bert.encoder.layer.3.output.dense.bias torch.Size([768])\n",
      "bert.encoder.layer.3.output.LayerNorm.weight torch.Size([768])\n",
      "bert.encoder.layer.3.output.LayerNorm.bias torch.Size([768])\n",
      "bert.encoder.layer.4.attention.self.query.weight torch.Size([768, 768])\n",
      "bert.encoder.layer.4.attention.self.query.bias torch.Size([768])\n",
      "bert.encoder.layer.4.attention.self.key.weight torch.Size([768, 768])\n",
      "bert.encoder.layer.4.attention.self.key.bias torch.Size([768])\n",
      "bert.encoder.layer.4.attention.self.value.weight torch.Size([768, 768])\n",
      "bert.encoder.layer.4.attention.self.value.bias torch.Size([768])\n",
      "bert.encoder.layer.4.attention.output.dense.weight torch.Size([768, 768])\n",
      "bert.encoder.layer.4.attention.output.dense.bias torch.Size([768])\n",
      "bert.encoder.layer.4.attention.output.LayerNorm.weight torch.Size([768])\n",
      "bert.encoder.layer.4.attention.output.LayerNorm.bias torch.Size([768])\n",
      "bert.encoder.layer.4.intermediate.dense.weight torch.Size([3072, 768])\n",
      "bert.encoder.layer.4.intermediate.dense.bias torch.Size([3072])\n",
      "bert.encoder.layer.4.output.dense.weight torch.Size([768, 3072])\n",
      "bert.encoder.layer.4.output.dense.bias torch.Size([768])\n",
      "bert.encoder.layer.4.output.LayerNorm.weight torch.Size([768])\n",
      "bert.encoder.layer.4.output.LayerNorm.bias torch.Size([768])\n",
      "bert.encoder.layer.5.attention.self.query.weight torch.Size([768, 768])\n",
      "bert.encoder.layer.5.attention.self.query.bias torch.Size([768])\n",
      "bert.encoder.layer.5.attention.self.key.weight torch.Size([768, 768])\n",
      "bert.encoder.layer.5.attention.self.key.bias torch.Size([768])\n",
      "bert.encoder.layer.5.attention.self.value.weight torch.Size([768, 768])\n",
      "bert.encoder.layer.5.attention.self.value.bias torch.Size([768])\n",
      "bert.encoder.layer.5.attention.output.dense.weight torch.Size([768, 768])\n",
      "bert.encoder.layer.5.attention.output.dense.bias torch.Size([768])\n",
      "bert.encoder.layer.5.attention.output.LayerNorm.weight torch.Size([768])\n",
      "bert.encoder.layer.5.attention.output.LayerNorm.bias torch.Size([768])\n",
      "bert.encoder.layer.5.intermediate.dense.weight torch.Size([3072, 768])\n",
      "bert.encoder.layer.5.intermediate.dense.bias torch.Size([3072])\n",
      "bert.encoder.layer.5.output.dense.weight torch.Size([768, 3072])\n",
      "bert.encoder.layer.5.output.dense.bias torch.Size([768])\n",
      "bert.encoder.layer.5.output.LayerNorm.weight torch.Size([768])\n",
      "bert.encoder.layer.5.output.LayerNorm.bias torch.Size([768])\n",
      "bert.encoder.layer.6.attention.self.query.weight torch.Size([768, 768])\n",
      "bert.encoder.layer.6.attention.self.query.bias torch.Size([768])\n",
      "bert.encoder.layer.6.attention.self.key.weight torch.Size([768, 768])\n",
      "bert.encoder.layer.6.attention.self.key.bias torch.Size([768])\n",
      "bert.encoder.layer.6.attention.self.value.weight torch.Size([768, 768])\n",
      "bert.encoder.layer.6.attention.self.value.bias torch.Size([768])\n",
      "bert.encoder.layer.6.attention.output.dense.weight torch.Size([768, 768])\n",
      "bert.encoder.layer.6.attention.output.dense.bias torch.Size([768])\n",
      "bert.encoder.layer.6.attention.output.LayerNorm.weight torch.Size([768])\n",
      "bert.encoder.layer.6.attention.output.LayerNorm.bias torch.Size([768])\n",
      "bert.encoder.layer.6.intermediate.dense.weight torch.Size([3072, 768])\n",
      "bert.encoder.layer.6.intermediate.dense.bias torch.Size([3072])\n",
      "bert.encoder.layer.6.output.dense.weight torch.Size([768, 3072])\n",
      "bert.encoder.layer.6.output.dense.bias torch.Size([768])\n",
      "bert.encoder.layer.6.output.LayerNorm.weight torch.Size([768])\n",
      "bert.encoder.layer.6.output.LayerNorm.bias torch.Size([768])\n",
      "bert.encoder.layer.7.attention.self.query.weight torch.Size([768, 768])\n",
      "bert.encoder.layer.7.attention.self.query.bias torch.Size([768])\n",
      "bert.encoder.layer.7.attention.self.key.weight torch.Size([768, 768])\n",
      "bert.encoder.layer.7.attention.self.key.bias torch.Size([768])\n",
      "bert.encoder.layer.7.attention.self.value.weight torch.Size([768, 768])\n",
      "bert.encoder.layer.7.attention.self.value.bias torch.Size([768])\n",
      "bert.encoder.layer.7.attention.output.dense.weight torch.Size([768, 768])\n",
      "bert.encoder.layer.7.attention.output.dense.bias torch.Size([768])\n",
      "bert.encoder.layer.7.attention.output.LayerNorm.weight torch.Size([768])\n",
      "bert.encoder.layer.7.attention.output.LayerNorm.bias torch.Size([768])\n",
      "bert.encoder.layer.7.intermediate.dense.weight torch.Size([3072, 768])\n",
      "bert.encoder.layer.7.intermediate.dense.bias torch.Size([3072])\n",
      "bert.encoder.layer.7.output.dense.weight torch.Size([768, 3072])\n",
      "bert.encoder.layer.7.output.dense.bias torch.Size([768])\n",
      "bert.encoder.layer.7.output.LayerNorm.weight torch.Size([768])\n",
      "bert.encoder.layer.7.output.LayerNorm.bias torch.Size([768])\n",
      "bert.encoder.layer.8.attention.self.query.weight torch.Size([768, 768])\n",
      "bert.encoder.layer.8.attention.self.query.bias torch.Size([768])\n",
      "bert.encoder.layer.8.attention.self.key.weight torch.Size([768, 768])\n",
      "bert.encoder.layer.8.attention.self.key.bias torch.Size([768])\n",
      "bert.encoder.layer.8.attention.self.value.weight torch.Size([768, 768])\n",
      "bert.encoder.layer.8.attention.self.value.bias torch.Size([768])\n",
      "bert.encoder.layer.8.attention.output.dense.weight torch.Size([768, 768])\n",
      "bert.encoder.layer.8.attention.output.dense.bias torch.Size([768])\n",
      "bert.encoder.layer.8.attention.output.LayerNorm.weight torch.Size([768])\n",
      "bert.encoder.layer.8.attention.output.LayerNorm.bias torch.Size([768])\n",
      "bert.encoder.layer.8.intermediate.dense.weight torch.Size([3072, 768])\n",
      "bert.encoder.layer.8.intermediate.dense.bias torch.Size([3072])\n",
      "bert.encoder.layer.8.output.dense.weight torch.Size([768, 3072])\n",
      "bert.encoder.layer.8.output.dense.bias torch.Size([768])\n",
      "bert.encoder.layer.8.output.LayerNorm.weight torch.Size([768])\n",
      "bert.encoder.layer.8.output.LayerNorm.bias torch.Size([768])\n",
      "bert.encoder.layer.9.attention.self.query.weight torch.Size([768, 768])\n",
      "bert.encoder.layer.9.attention.self.query.bias torch.Size([768])\n",
      "bert.encoder.layer.9.attention.self.key.weight torch.Size([768, 768])\n",
      "bert.encoder.layer.9.attention.self.key.bias torch.Size([768])\n",
      "bert.encoder.layer.9.attention.self.value.weight torch.Size([768, 768])\n",
      "bert.encoder.layer.9.attention.self.value.bias torch.Size([768])\n",
      "bert.encoder.layer.9.attention.output.dense.weight torch.Size([768, 768])\n",
      "bert.encoder.layer.9.attention.output.dense.bias torch.Size([768])\n",
      "bert.encoder.layer.9.attention.output.LayerNorm.weight torch.Size([768])\n",
      "bert.encoder.layer.9.attention.output.LayerNorm.bias torch.Size([768])\n",
      "bert.encoder.layer.9.intermediate.dense.weight torch.Size([3072, 768])\n",
      "bert.encoder.layer.9.intermediate.dense.bias torch.Size([3072])\n",
      "bert.encoder.layer.9.output.dense.weight torch.Size([768, 3072])\n",
      "bert.encoder.layer.9.output.dense.bias torch.Size([768])\n",
      "bert.encoder.layer.9.output.LayerNorm.weight torch.Size([768])\n",
      "bert.encoder.layer.9.output.LayerNorm.bias torch.Size([768])\n",
      "bert.encoder.layer.10.attention.self.query.weight torch.Size([768, 768])\n",
      "bert.encoder.layer.10.attention.self.query.bias torch.Size([768])\n",
      "bert.encoder.layer.10.attention.self.key.weight torch.Size([768, 768])\n",
      "bert.encoder.layer.10.attention.self.key.bias torch.Size([768])\n",
      "bert.encoder.layer.10.attention.self.value.weight torch.Size([768, 768])\n",
      "bert.encoder.layer.10.attention.self.value.bias torch.Size([768])\n",
      "bert.encoder.layer.10.attention.output.dense.weight torch.Size([768, 768])\n",
      "bert.encoder.layer.10.attention.output.dense.bias torch.Size([768])\n",
      "bert.encoder.layer.10.attention.output.LayerNorm.weight torch.Size([768])\n",
      "bert.encoder.layer.10.attention.output.LayerNorm.bias torch.Size([768])\n",
      "bert.encoder.layer.10.intermediate.dense.weight torch.Size([3072, 768])\n",
      "bert.encoder.layer.10.intermediate.dense.bias torch.Size([3072])\n",
      "bert.encoder.layer.10.output.dense.weight torch.Size([768, 3072])\n",
      "bert.encoder.layer.10.output.dense.bias torch.Size([768])\n",
      "bert.encoder.layer.10.output.LayerNorm.weight torch.Size([768])\n",
      "bert.encoder.layer.10.output.LayerNorm.bias torch.Size([768])\n",
      "bert.encoder.layer.11.attention.self.query.weight torch.Size([768, 768])\n",
      "bert.encoder.layer.11.attention.self.query.bias torch.Size([768])\n",
      "bert.encoder.layer.11.attention.self.key.weight torch.Size([768, 768])\n",
      "bert.encoder.layer.11.attention.self.key.bias torch.Size([768])\n",
      "bert.encoder.layer.11.attention.self.value.weight torch.Size([768, 768])\n",
      "bert.encoder.layer.11.attention.self.value.bias torch.Size([768])\n",
      "bert.encoder.layer.11.attention.output.dense.weight torch.Size([768, 768])\n",
      "bert.encoder.layer.11.attention.output.dense.bias torch.Size([768])\n",
      "bert.encoder.layer.11.attention.output.LayerNorm.weight torch.Size([768])\n",
      "bert.encoder.layer.11.attention.output.LayerNorm.bias torch.Size([768])\n",
      "bert.encoder.layer.11.intermediate.dense.weight torch.Size([3072, 768])\n",
      "bert.encoder.layer.11.intermediate.dense.bias torch.Size([3072])\n",
      "bert.encoder.layer.11.output.dense.weight torch.Size([768, 3072])\n",
      "bert.encoder.layer.11.output.dense.bias torch.Size([768])\n",
      "bert.encoder.layer.11.output.LayerNorm.weight torch.Size([768])\n",
      "bert.encoder.layer.11.output.LayerNorm.bias torch.Size([768])\n",
      "bert.pooler.dense.weight torch.Size([768, 768])\n",
      "bert.pooler.dense.bias torch.Size([768])\n",
      "classifier.weight torch.Size([3, 768])\n",
      "classifier.bias torch.Size([3])\n"
     ]
    }
   ],
   "source": [
    "# Model layers\n",
    "for name, param in model.named_parameters():\n",
    "    print(name, param.shape)"
   ]
  },
  {
   "cell_type": "code",
   "execution_count": 20,
   "id": "229c6fec",
   "metadata": {},
   "outputs": [
    {
     "name": "stdout",
     "output_type": "stream",
     "text": [
      "Accuracy: 89.46%\n"
     ]
    }
   ],
   "source": [
    "# Model accuracy\n",
    "from sklearn.metrics import accuracy_score\n",
    "\n",
    "# Convert predicted labels to taxonomy labels\n",
    "predicted_labels = [list(difficulty_mapping.keys())[p] for p in predictions]\n",
    "\n",
    "# Convert actual labels to taxonomy labels\n",
    "actual_labels = [list(difficulty_mapping.keys())[t] for t in test_labels.tolist()]\n",
    "\n",
    "# Calculate accuracy\n",
    "accuracy = accuracy_score(actual_labels, predicted_labels)\n",
    "\n",
    "print(\"Accuracy: {:.2f}%\".format(accuracy * 100))\n"
   ]
  },
  {
   "cell_type": "markdown",
   "id": "75e8a6db",
   "metadata": {},
   "source": [
    "# Sample Difficulty Level Question "
   ]
  },
  {
   "cell_type": "code",
   "execution_count": 21,
   "id": "a2be9b72",
   "metadata": {},
   "outputs": [
    {
     "name": "stdout",
     "output_type": "stream",
     "text": [
      "Predicted difficulty: Easy\n"
     ]
    }
   ],
   "source": [
    "sample_question = \"Who painted the Mona Lisa?\"\n",
    "\n",
    "encoded_question = tokenizer.encode_plus(\n",
    "    sample_question,\n",
    "    truncation=True,\n",
    "    padding=True,\n",
    "    max_length=128,\n",
    "    add_special_tokens=True,\n",
    "    return_tensors='pt'\n",
    ")\n",
    "input_ids = encoded_question['input_ids']\n",
    "attention_mask = encoded_question['attention_mask']\n",
    "\n",
    "\n",
    "with torch.no_grad():\n",
    "    model.eval()\n",
    "    logits = model(input_ids, attention_mask=attention_mask)\n",
    "\n",
    "predicted_label = torch.argmax(logits[0]).item()\n",
    "predicted_difficulty = list(difficulty_mapping.keys())[predicted_label]\n",
    "\n",
    "print(\"Predicted difficulty:\", predicted_difficulty)\n"
   ]
  },
  {
   "cell_type": "code",
   "execution_count": null,
   "id": "2b1bfdb4",
   "metadata": {},
   "outputs": [],
   "source": []
  },
  {
   "cell_type": "code",
   "execution_count": null,
   "id": "c68489fe",
   "metadata": {},
   "outputs": [],
   "source": []
  },
  {
   "cell_type": "code",
   "execution_count": null,
   "id": "626692f3",
   "metadata": {},
   "outputs": [],
   "source": []
  },
  {
   "cell_type": "code",
   "execution_count": null,
   "id": "b3a8b421",
   "metadata": {},
   "outputs": [],
   "source": []
  },
  {
   "cell_type": "code",
   "execution_count": null,
   "id": "793630f8",
   "metadata": {},
   "outputs": [],
   "source": []
  },
  {
   "cell_type": "code",
   "execution_count": null,
   "id": "a3a99eae",
   "metadata": {},
   "outputs": [],
   "source": []
  },
  {
   "cell_type": "code",
   "execution_count": null,
   "id": "a78acf5c",
   "metadata": {},
   "outputs": [],
   "source": []
  },
  {
   "cell_type": "markdown",
   "id": "40db10c4",
   "metadata": {},
   "source": [
    "# Bloom's Taxonomy"
   ]
  },
  {
   "cell_type": "code",
   "execution_count": 22,
   "id": "b8a61c06",
   "metadata": {},
   "outputs": [],
   "source": [
    "import pandas as pd\n",
    "from sklearn.model_selection import train_test_split\n",
    "from transformers import BertTokenizer, BertForSequenceClassification, AdamW\n",
    "import torch\n",
    "from torch.utils.data import TensorDataset, DataLoader, RandomSampler, SequentialSampler\n",
    "from tqdm import tqdm"
   ]
  },
  {
   "cell_type": "code",
   "execution_count": 23,
   "id": "9a45a0d5",
   "metadata": {},
   "outputs": [],
   "source": [
    "# Step 1: Load and preprocess the dataset\n",
    "df = pd.read_csv('Data.csv') \n",
    "questions = df['Questions'].tolist()\n",
    "taxonomy = df[\"Bloom's Taxonomy\"].tolist()"
   ]
  },
  {
   "cell_type": "code",
   "execution_count": 24,
   "id": "bfdb2326",
   "metadata": {},
   "outputs": [],
   "source": [
    "# Step 2: Split the dataset into train and test sets\n",
    "train_questions, test_questions, train_taxonomy, test_taxonomy = train_test_split(\n",
    "    questions, taxonomy, test_size=0.2, random_state=42\n",
    ")"
   ]
  },
  {
   "cell_type": "code",
   "execution_count": 25,
   "id": "624b8b20",
   "metadata": {},
   "outputs": [],
   "source": [
    "# Step 3: Load the BERT tokenizer\n",
    "tokenizer = BertTokenizer.from_pretrained('bert-base-uncased')"
   ]
  },
  {
   "cell_type": "code",
   "execution_count": 26,
   "id": "107b4b4e",
   "metadata": {},
   "outputs": [],
   "source": [
    "# Step 4: Tokenize and encode the input sequences\n",
    "train_encodings = tokenizer(\n",
    "    train_questions,\n",
    "    truncation=True,\n",
    "    padding=True,\n",
    "    max_length=128,\n",
    "    add_special_tokens=True,\n",
    "    return_tensors='pt'\n",
    ")\n",
    "test_encodings = tokenizer(\n",
    "    test_questions,\n",
    "    truncation=True,\n",
    "    padding=True,\n",
    "    max_length=128,\n",
    "    add_special_tokens=True,\n",
    "    return_tensors='pt'\n",
    ")"
   ]
  },
  {
   "cell_type": "code",
   "execution_count": 27,
   "id": "e16657cb",
   "metadata": {},
   "outputs": [],
   "source": [
    "# Step 5: Create PyTorch datasets\n",
    "taxonomy_mapping = {\n",
    "    'Remembering': 0,\n",
    "    'Understanding': 1,\n",
    "    'Applying': 2,\n",
    "    'Analyzing': 3,\n",
    "    'Evaluating': 4,\n",
    "    'Creating': 5\n",
    "}\n",
    "\n",
    "train_labels = torch.tensor([taxonomy_mapping[label] for label in train_taxonomy])\n",
    "test_labels = torch.tensor([taxonomy_mapping[label] for label in test_taxonomy])\n",
    "\n",
    "train_dataset = TensorDataset(train_encodings['input_ids'], train_encodings['attention_mask'], train_labels)\n",
    "test_dataset = TensorDataset(test_encodings['input_ids'], test_encodings['attention_mask'], test_labels)\n"
   ]
  },
  {
   "cell_type": "code",
   "execution_count": 28,
   "id": "ba14d6cb",
   "metadata": {},
   "outputs": [
    {
     "name": "stderr",
     "output_type": "stream",
     "text": [
      "Some weights of the model checkpoint at bert-base-uncased were not used when initializing BertForSequenceClassification: ['cls.predictions.transform.LayerNorm.bias', 'cls.predictions.decoder.weight', 'cls.predictions.transform.dense.weight', 'cls.predictions.bias', 'cls.seq_relationship.weight', 'cls.predictions.transform.LayerNorm.weight', 'cls.predictions.transform.dense.bias', 'cls.seq_relationship.bias']\n",
      "- This IS expected if you are initializing BertForSequenceClassification from the checkpoint of a model trained on another task or with another architecture (e.g. initializing a BertForSequenceClassification model from a BertForPreTraining model).\n",
      "- This IS NOT expected if you are initializing BertForSequenceClassification from the checkpoint of a model that you expect to be exactly identical (initializing a BertForSequenceClassification model from a BertForSequenceClassification model).\n",
      "Some weights of BertForSequenceClassification were not initialized from the model checkpoint at bert-base-uncased and are newly initialized: ['classifier.weight', 'classifier.bias']\n",
      "You should probably TRAIN this model on a down-stream task to be able to use it for predictions and inference.\n",
      "C:\\Users\\mgopa\\anaconda3\\lib\\site-packages\\transformers\\optimization.py:391: FutureWarning: This implementation of AdamW is deprecated and will be removed in a future version. Use the PyTorch implementation torch.optim.AdamW instead, or set `no_deprecation_warning=True` to disable this warning\n",
      "  warnings.warn(\n"
     ]
    }
   ],
   "source": [
    "# Step 6: Define model and optimizer\n",
    "model = BertForSequenceClassification.from_pretrained('bert-base-uncased', num_labels=6)\n",
    "optimizer = AdamW(model.parameters(), lr=1e-5)"
   ]
  },
  {
   "cell_type": "code",
   "execution_count": 29,
   "id": "767561c0",
   "metadata": {},
   "outputs": [],
   "source": [
    "# Step 7: Create data loaders\n",
    "train_sampler = RandomSampler(train_dataset)\n",
    "test_sampler = SequentialSampler(test_dataset)\n",
    "train_dataloader = DataLoader(train_dataset, sampler=train_sampler, batch_size=16)\n",
    "test_dataloader = DataLoader(test_dataset, sampler=test_sampler, batch_size=16)"
   ]
  },
  {
   "cell_type": "code",
   "execution_count": 30,
   "id": "ab49697b",
   "metadata": {},
   "outputs": [
    {
     "data": {
      "text/plain": [
       "BertForSequenceClassification(\n",
       "  (bert): BertModel(\n",
       "    (embeddings): BertEmbeddings(\n",
       "      (word_embeddings): Embedding(30522, 768, padding_idx=0)\n",
       "      (position_embeddings): Embedding(512, 768)\n",
       "      (token_type_embeddings): Embedding(2, 768)\n",
       "      (LayerNorm): LayerNorm((768,), eps=1e-12, elementwise_affine=True)\n",
       "      (dropout): Dropout(p=0.1, inplace=False)\n",
       "    )\n",
       "    (encoder): BertEncoder(\n",
       "      (layer): ModuleList(\n",
       "        (0-11): 12 x BertLayer(\n",
       "          (attention): BertAttention(\n",
       "            (self): BertSelfAttention(\n",
       "              (query): Linear(in_features=768, out_features=768, bias=True)\n",
       "              (key): Linear(in_features=768, out_features=768, bias=True)\n",
       "              (value): Linear(in_features=768, out_features=768, bias=True)\n",
       "              (dropout): Dropout(p=0.1, inplace=False)\n",
       "            )\n",
       "            (output): BertSelfOutput(\n",
       "              (dense): Linear(in_features=768, out_features=768, bias=True)\n",
       "              (LayerNorm): LayerNorm((768,), eps=1e-12, elementwise_affine=True)\n",
       "              (dropout): Dropout(p=0.1, inplace=False)\n",
       "            )\n",
       "          )\n",
       "          (intermediate): BertIntermediate(\n",
       "            (dense): Linear(in_features=768, out_features=3072, bias=True)\n",
       "            (intermediate_act_fn): GELUActivation()\n",
       "          )\n",
       "          (output): BertOutput(\n",
       "            (dense): Linear(in_features=3072, out_features=768, bias=True)\n",
       "            (LayerNorm): LayerNorm((768,), eps=1e-12, elementwise_affine=True)\n",
       "            (dropout): Dropout(p=0.1, inplace=False)\n",
       "          )\n",
       "        )\n",
       "      )\n",
       "    )\n",
       "    (pooler): BertPooler(\n",
       "      (dense): Linear(in_features=768, out_features=768, bias=True)\n",
       "      (activation): Tanh()\n",
       "    )\n",
       "  )\n",
       "  (dropout): Dropout(p=0.1, inplace=False)\n",
       "  (classifier): Linear(in_features=768, out_features=6, bias=True)\n",
       ")"
      ]
     },
     "execution_count": 30,
     "metadata": {},
     "output_type": "execute_result"
    }
   ],
   "source": [
    "# Step 8: Train the model\n",
    "device = torch.device('cuda') if torch.cuda.is_available() else torch.device('cpu')\n",
    "model.to(device)\n",
    "model.train()"
   ]
  },
  {
   "cell_type": "code",
   "execution_count": 31,
   "id": "15c2c929",
   "metadata": {},
   "outputs": [
    {
     "name": "stderr",
     "output_type": "stream",
     "text": [
      "                                                                                                                                                           \r"
     ]
    },
    {
     "name": "stdout",
     "output_type": "stream",
     "text": [
      "Epoch 1 training loss: 0.766\n"
     ]
    },
    {
     "name": "stderr",
     "output_type": "stream",
     "text": [
      "                                                                                                                                                           \r"
     ]
    },
    {
     "name": "stdout",
     "output_type": "stream",
     "text": [
      "Epoch 2 training loss: 0.357\n"
     ]
    },
    {
     "name": "stderr",
     "output_type": "stream",
     "text": [
      "                                                                                                                                                           \r"
     ]
    },
    {
     "name": "stdout",
     "output_type": "stream",
     "text": [
      "Epoch 3 training loss: 0.274\n"
     ]
    },
    {
     "name": "stderr",
     "output_type": "stream",
     "text": [
      "                                                                                                                                                           \r"
     ]
    },
    {
     "name": "stdout",
     "output_type": "stream",
     "text": [
      "Epoch 4 training loss: 0.198\n"
     ]
    },
    {
     "name": "stderr",
     "output_type": "stream",
     "text": [
      "                                                                                                                                                           "
     ]
    },
    {
     "name": "stdout",
     "output_type": "stream",
     "text": [
      "Epoch 5 training loss: 0.121\n"
     ]
    },
    {
     "name": "stderr",
     "output_type": "stream",
     "text": [
      "\r"
     ]
    }
   ],
   "source": [
    "epochs = 5\n",
    "for epoch in range(epochs):\n",
    "    epoch_loss = 0.0\n",
    "    progress_bar = tqdm(train_dataloader, desc='Epoch {:1d}'.format(epoch + 1), leave=False, disable=False)\n",
    "    for batch in progress_bar:\n",
    "        input_ids = batch[0].to(device)\n",
    "        attention_mask = batch[1].to(device)\n",
    "        labels = batch[2].to(device)\n",
    "\n",
    "        model.zero_grad()\n",
    "\n",
    "        outputs = model(input_ids, attention_mask=attention_mask, labels=labels)\n",
    "        loss = outputs.loss\n",
    "        epoch_loss += loss.item()\n",
    "\n",
    "        loss.backward()\n",
    "        torch.nn.utils.clip_grad_norm_(model.parameters(), 1.0)\n",
    "        optimizer.step()\n",
    "\n",
    "        progress_bar.set_postfix({'training_loss': '{:.3f}'.format(loss.item() / len(batch))})\n",
    "\n",
    "    print('Epoch {} training loss: {:.3f}'.format(epoch + 1, epoch_loss / len(train_dataloader)))"
   ]
  },
  {
   "cell_type": "code",
   "execution_count": 32,
   "id": "d2678f64",
   "metadata": {},
   "outputs": [
    {
     "name": "stdout",
     "output_type": "stream",
     "text": [
      "Evaluation loss: 0.478\n"
     ]
    }
   ],
   "source": [
    "# Step 9: Evaluate the model\n",
    "model.eval()\n",
    "eval_loss = 0.0\n",
    "predictions = []\n",
    "for batch in test_dataloader:\n",
    "    input_ids = batch[0].to(device)\n",
    "    attention_mask = batch[1].to(device)\n",
    "    labels = batch[2].to(device)\n",
    "\n",
    "    with torch.no_grad():\n",
    "        outputs = model(input_ids, attention_mask=attention_mask, labels=labels)\n",
    "        loss = outputs.loss\n",
    "        logits = outputs.logits\n",
    "\n",
    "    eval_loss += loss.item()\n",
    "    predictions.extend(torch.argmax(logits, dim=1).tolist())\n",
    "\n",
    "eval_loss = eval_loss / len(test_dataloader)\n",
    "print('Evaluation loss: {:.3f}'.format(eval_loss))"
   ]
  },
  {
   "cell_type": "code",
   "execution_count": 33,
   "id": "773a1afc",
   "metadata": {},
   "outputs": [],
   "source": [
    "# Step 10: Print predictions and actual labels\n",
    "\n",
    "predicted_taxonomy = [list(taxonomy_mapping.keys())[p] for p in predictions]\n",
    "actual_taxonomy = [list(taxonomy_mapping.keys())[t] for t in test_labels.tolist()]\n"
   ]
  },
  {
   "cell_type": "code",
   "execution_count": 34,
   "id": "a5e65ef2",
   "metadata": {},
   "outputs": [],
   "source": [
    "temp1=pd.DataFrame({\n",
    "    'Actual taxonomy':actual_taxonomy,\n",
    "    'Predicted taxonomy':predicted_taxonomy\n",
    "})"
   ]
  },
  {
   "cell_type": "code",
   "execution_count": 35,
   "id": "4816c3f6",
   "metadata": {},
   "outputs": [
    {
     "data": {
      "text/html": [
       "<div>\n",
       "<style scoped>\n",
       "    .dataframe tbody tr th:only-of-type {\n",
       "        vertical-align: middle;\n",
       "    }\n",
       "\n",
       "    .dataframe tbody tr th {\n",
       "        vertical-align: top;\n",
       "    }\n",
       "\n",
       "    .dataframe thead th {\n",
       "        text-align: right;\n",
       "    }\n",
       "</style>\n",
       "<table border=\"1\" class=\"dataframe\">\n",
       "  <thead>\n",
       "    <tr style=\"text-align: right;\">\n",
       "      <th></th>\n",
       "      <th>Actual taxonomy</th>\n",
       "      <th>Predicted taxonomy</th>\n",
       "    </tr>\n",
       "  </thead>\n",
       "  <tbody>\n",
       "    <tr>\n",
       "      <th>0</th>\n",
       "      <td>Remembering</td>\n",
       "      <td>Remembering</td>\n",
       "    </tr>\n",
       "    <tr>\n",
       "      <th>1</th>\n",
       "      <td>Remembering</td>\n",
       "      <td>Remembering</td>\n",
       "    </tr>\n",
       "    <tr>\n",
       "      <th>2</th>\n",
       "      <td>Understanding</td>\n",
       "      <td>Understanding</td>\n",
       "    </tr>\n",
       "    <tr>\n",
       "      <th>3</th>\n",
       "      <td>Remembering</td>\n",
       "      <td>Remembering</td>\n",
       "    </tr>\n",
       "    <tr>\n",
       "      <th>4</th>\n",
       "      <td>Understanding</td>\n",
       "      <td>Understanding</td>\n",
       "    </tr>\n",
       "  </tbody>\n",
       "</table>\n",
       "</div>"
      ],
      "text/plain": [
       "  Actual taxonomy Predicted taxonomy\n",
       "0     Remembering        Remembering\n",
       "1     Remembering        Remembering\n",
       "2   Understanding      Understanding\n",
       "3     Remembering        Remembering\n",
       "4   Understanding      Understanding"
      ]
     },
     "execution_count": 35,
     "metadata": {},
     "output_type": "execute_result"
    }
   ],
   "source": [
    "temp1.head()"
   ]
  },
  {
   "cell_type": "code",
   "execution_count": 36,
   "id": "a2f2b0e6",
   "metadata": {},
   "outputs": [
    {
     "name": "stdout",
     "output_type": "stream",
     "text": [
      "106\n"
     ]
    }
   ],
   "source": [
    "# Dismathched items count out of 302\n",
    "count=0\n",
    "for i in range(len(actual_taxonomy)):\n",
    "    if actual_taxonomy[i]!=predicted_taxonomy[i]:\n",
    "        count+=1\n",
    "print(count)"
   ]
  },
  {
   "cell_type": "code",
   "execution_count": 37,
   "id": "406a11d6",
   "metadata": {},
   "outputs": [
    {
     "name": "stdout",
     "output_type": "stream",
     "text": [
      "BertForSequenceClassification(\n",
      "  (bert): BertModel(\n",
      "    (embeddings): BertEmbeddings(\n",
      "      (word_embeddings): Embedding(30522, 768, padding_idx=0)\n",
      "      (position_embeddings): Embedding(512, 768)\n",
      "      (token_type_embeddings): Embedding(2, 768)\n",
      "      (LayerNorm): LayerNorm((768,), eps=1e-12, elementwise_affine=True)\n",
      "      (dropout): Dropout(p=0.1, inplace=False)\n",
      "    )\n",
      "    (encoder): BertEncoder(\n",
      "      (layer): ModuleList(\n",
      "        (0-11): 12 x BertLayer(\n",
      "          (attention): BertAttention(\n",
      "            (self): BertSelfAttention(\n",
      "              (query): Linear(in_features=768, out_features=768, bias=True)\n",
      "              (key): Linear(in_features=768, out_features=768, bias=True)\n",
      "              (value): Linear(in_features=768, out_features=768, bias=True)\n",
      "              (dropout): Dropout(p=0.1, inplace=False)\n",
      "            )\n",
      "            (output): BertSelfOutput(\n",
      "              (dense): Linear(in_features=768, out_features=768, bias=True)\n",
      "              (LayerNorm): LayerNorm((768,), eps=1e-12, elementwise_affine=True)\n",
      "              (dropout): Dropout(p=0.1, inplace=False)\n",
      "            )\n",
      "          )\n",
      "          (intermediate): BertIntermediate(\n",
      "            (dense): Linear(in_features=768, out_features=3072, bias=True)\n",
      "            (intermediate_act_fn): GELUActivation()\n",
      "          )\n",
      "          (output): BertOutput(\n",
      "            (dense): Linear(in_features=3072, out_features=768, bias=True)\n",
      "            (LayerNorm): LayerNorm((768,), eps=1e-12, elementwise_affine=True)\n",
      "            (dropout): Dropout(p=0.1, inplace=False)\n",
      "          )\n",
      "        )\n",
      "      )\n",
      "    )\n",
      "    (pooler): BertPooler(\n",
      "      (dense): Linear(in_features=768, out_features=768, bias=True)\n",
      "      (activation): Tanh()\n",
      "    )\n",
      "  )\n",
      "  (dropout): Dropout(p=0.1, inplace=False)\n",
      "  (classifier): Linear(in_features=768, out_features=6, bias=True)\n",
      ")\n"
     ]
    }
   ],
   "source": [
    "# Model architecture \n",
    "print(model)"
   ]
  },
  {
   "cell_type": "code",
   "execution_count": 38,
   "id": "3c2e8cdf",
   "metadata": {},
   "outputs": [
    {
     "name": "stdout",
     "output_type": "stream",
     "text": [
      "Total Parameters:  109486854\n"
     ]
    }
   ],
   "source": [
    "# Model parameters\n",
    "total_params = sum(p.numel() for p in model.parameters())\n",
    "print(\"Total Parameters: \", total_params)"
   ]
  },
  {
   "cell_type": "code",
   "execution_count": 39,
   "id": "28497d87",
   "metadata": {},
   "outputs": [
    {
     "name": "stdout",
     "output_type": "stream",
     "text": [
      "Model Configuration:  BertConfig {\n",
      "  \"_name_or_path\": \"bert-base-uncased\",\n",
      "  \"architectures\": [\n",
      "    \"BertForMaskedLM\"\n",
      "  ],\n",
      "  \"attention_probs_dropout_prob\": 0.1,\n",
      "  \"classifier_dropout\": null,\n",
      "  \"gradient_checkpointing\": false,\n",
      "  \"hidden_act\": \"gelu\",\n",
      "  \"hidden_dropout_prob\": 0.1,\n",
      "  \"hidden_size\": 768,\n",
      "  \"id2label\": {\n",
      "    \"0\": \"LABEL_0\",\n",
      "    \"1\": \"LABEL_1\",\n",
      "    \"2\": \"LABEL_2\",\n",
      "    \"3\": \"LABEL_3\",\n",
      "    \"4\": \"LABEL_4\",\n",
      "    \"5\": \"LABEL_5\"\n",
      "  },\n",
      "  \"initializer_range\": 0.02,\n",
      "  \"intermediate_size\": 3072,\n",
      "  \"label2id\": {\n",
      "    \"LABEL_0\": 0,\n",
      "    \"LABEL_1\": 1,\n",
      "    \"LABEL_2\": 2,\n",
      "    \"LABEL_3\": 3,\n",
      "    \"LABEL_4\": 4,\n",
      "    \"LABEL_5\": 5\n",
      "  },\n",
      "  \"layer_norm_eps\": 1e-12,\n",
      "  \"max_position_embeddings\": 512,\n",
      "  \"model_type\": \"bert\",\n",
      "  \"num_attention_heads\": 12,\n",
      "  \"num_hidden_layers\": 12,\n",
      "  \"pad_token_id\": 0,\n",
      "  \"position_embedding_type\": \"absolute\",\n",
      "  \"problem_type\": \"single_label_classification\",\n",
      "  \"transformers_version\": \"4.28.1\",\n",
      "  \"type_vocab_size\": 2,\n",
      "  \"use_cache\": true,\n",
      "  \"vocab_size\": 30522\n",
      "}\n",
      "\n"
     ]
    }
   ],
   "source": [
    "# Model configuration\n",
    "config = model.config\n",
    "print(\"Model Configuration: \", config)"
   ]
  },
  {
   "cell_type": "code",
   "execution_count": 40,
   "id": "e94c7812",
   "metadata": {},
   "outputs": [
    {
     "name": "stdout",
     "output_type": "stream",
     "text": [
      "bert.embeddings.word_embeddings.weight torch.Size([30522, 768])\n",
      "bert.embeddings.position_embeddings.weight torch.Size([512, 768])\n",
      "bert.embeddings.token_type_embeddings.weight torch.Size([2, 768])\n",
      "bert.embeddings.LayerNorm.weight torch.Size([768])\n",
      "bert.embeddings.LayerNorm.bias torch.Size([768])\n",
      "bert.encoder.layer.0.attention.self.query.weight torch.Size([768, 768])\n",
      "bert.encoder.layer.0.attention.self.query.bias torch.Size([768])\n",
      "bert.encoder.layer.0.attention.self.key.weight torch.Size([768, 768])\n",
      "bert.encoder.layer.0.attention.self.key.bias torch.Size([768])\n",
      "bert.encoder.layer.0.attention.self.value.weight torch.Size([768, 768])\n",
      "bert.encoder.layer.0.attention.self.value.bias torch.Size([768])\n",
      "bert.encoder.layer.0.attention.output.dense.weight torch.Size([768, 768])\n",
      "bert.encoder.layer.0.attention.output.dense.bias torch.Size([768])\n",
      "bert.encoder.layer.0.attention.output.LayerNorm.weight torch.Size([768])\n",
      "bert.encoder.layer.0.attention.output.LayerNorm.bias torch.Size([768])\n",
      "bert.encoder.layer.0.intermediate.dense.weight torch.Size([3072, 768])\n",
      "bert.encoder.layer.0.intermediate.dense.bias torch.Size([3072])\n",
      "bert.encoder.layer.0.output.dense.weight torch.Size([768, 3072])\n",
      "bert.encoder.layer.0.output.dense.bias torch.Size([768])\n",
      "bert.encoder.layer.0.output.LayerNorm.weight torch.Size([768])\n",
      "bert.encoder.layer.0.output.LayerNorm.bias torch.Size([768])\n",
      "bert.encoder.layer.1.attention.self.query.weight torch.Size([768, 768])\n",
      "bert.encoder.layer.1.attention.self.query.bias torch.Size([768])\n",
      "bert.encoder.layer.1.attention.self.key.weight torch.Size([768, 768])\n",
      "bert.encoder.layer.1.attention.self.key.bias torch.Size([768])\n",
      "bert.encoder.layer.1.attention.self.value.weight torch.Size([768, 768])\n",
      "bert.encoder.layer.1.attention.self.value.bias torch.Size([768])\n",
      "bert.encoder.layer.1.attention.output.dense.weight torch.Size([768, 768])\n",
      "bert.encoder.layer.1.attention.output.dense.bias torch.Size([768])\n",
      "bert.encoder.layer.1.attention.output.LayerNorm.weight torch.Size([768])\n",
      "bert.encoder.layer.1.attention.output.LayerNorm.bias torch.Size([768])\n",
      "bert.encoder.layer.1.intermediate.dense.weight torch.Size([3072, 768])\n",
      "bert.encoder.layer.1.intermediate.dense.bias torch.Size([3072])\n",
      "bert.encoder.layer.1.output.dense.weight torch.Size([768, 3072])\n",
      "bert.encoder.layer.1.output.dense.bias torch.Size([768])\n",
      "bert.encoder.layer.1.output.LayerNorm.weight torch.Size([768])\n",
      "bert.encoder.layer.1.output.LayerNorm.bias torch.Size([768])\n",
      "bert.encoder.layer.2.attention.self.query.weight torch.Size([768, 768])\n",
      "bert.encoder.layer.2.attention.self.query.bias torch.Size([768])\n",
      "bert.encoder.layer.2.attention.self.key.weight torch.Size([768, 768])\n",
      "bert.encoder.layer.2.attention.self.key.bias torch.Size([768])\n",
      "bert.encoder.layer.2.attention.self.value.weight torch.Size([768, 768])\n",
      "bert.encoder.layer.2.attention.self.value.bias torch.Size([768])\n",
      "bert.encoder.layer.2.attention.output.dense.weight torch.Size([768, 768])\n",
      "bert.encoder.layer.2.attention.output.dense.bias torch.Size([768])\n",
      "bert.encoder.layer.2.attention.output.LayerNorm.weight torch.Size([768])\n",
      "bert.encoder.layer.2.attention.output.LayerNorm.bias torch.Size([768])\n",
      "bert.encoder.layer.2.intermediate.dense.weight torch.Size([3072, 768])\n",
      "bert.encoder.layer.2.intermediate.dense.bias torch.Size([3072])\n",
      "bert.encoder.layer.2.output.dense.weight torch.Size([768, 3072])\n",
      "bert.encoder.layer.2.output.dense.bias torch.Size([768])\n",
      "bert.encoder.layer.2.output.LayerNorm.weight torch.Size([768])\n",
      "bert.encoder.layer.2.output.LayerNorm.bias torch.Size([768])\n",
      "bert.encoder.layer.3.attention.self.query.weight torch.Size([768, 768])\n",
      "bert.encoder.layer.3.attention.self.query.bias torch.Size([768])\n",
      "bert.encoder.layer.3.attention.self.key.weight torch.Size([768, 768])\n",
      "bert.encoder.layer.3.attention.self.key.bias torch.Size([768])\n",
      "bert.encoder.layer.3.attention.self.value.weight torch.Size([768, 768])\n",
      "bert.encoder.layer.3.attention.self.value.bias torch.Size([768])\n",
      "bert.encoder.layer.3.attention.output.dense.weight torch.Size([768, 768])\n",
      "bert.encoder.layer.3.attention.output.dense.bias torch.Size([768])\n",
      "bert.encoder.layer.3.attention.output.LayerNorm.weight torch.Size([768])\n",
      "bert.encoder.layer.3.attention.output.LayerNorm.bias torch.Size([768])\n",
      "bert.encoder.layer.3.intermediate.dense.weight torch.Size([3072, 768])\n",
      "bert.encoder.layer.3.intermediate.dense.bias torch.Size([3072])\n",
      "bert.encoder.layer.3.output.dense.weight torch.Size([768, 3072])\n",
      "bert.encoder.layer.3.output.dense.bias torch.Size([768])\n",
      "bert.encoder.layer.3.output.LayerNorm.weight torch.Size([768])\n",
      "bert.encoder.layer.3.output.LayerNorm.bias torch.Size([768])\n",
      "bert.encoder.layer.4.attention.self.query.weight torch.Size([768, 768])\n",
      "bert.encoder.layer.4.attention.self.query.bias torch.Size([768])\n",
      "bert.encoder.layer.4.attention.self.key.weight torch.Size([768, 768])\n",
      "bert.encoder.layer.4.attention.self.key.bias torch.Size([768])\n",
      "bert.encoder.layer.4.attention.self.value.weight torch.Size([768, 768])\n",
      "bert.encoder.layer.4.attention.self.value.bias torch.Size([768])\n",
      "bert.encoder.layer.4.attention.output.dense.weight torch.Size([768, 768])\n",
      "bert.encoder.layer.4.attention.output.dense.bias torch.Size([768])\n",
      "bert.encoder.layer.4.attention.output.LayerNorm.weight torch.Size([768])\n",
      "bert.encoder.layer.4.attention.output.LayerNorm.bias torch.Size([768])\n",
      "bert.encoder.layer.4.intermediate.dense.weight torch.Size([3072, 768])\n",
      "bert.encoder.layer.4.intermediate.dense.bias torch.Size([3072])\n",
      "bert.encoder.layer.4.output.dense.weight torch.Size([768, 3072])\n",
      "bert.encoder.layer.4.output.dense.bias torch.Size([768])\n",
      "bert.encoder.layer.4.output.LayerNorm.weight torch.Size([768])\n",
      "bert.encoder.layer.4.output.LayerNorm.bias torch.Size([768])\n",
      "bert.encoder.layer.5.attention.self.query.weight torch.Size([768, 768])\n",
      "bert.encoder.layer.5.attention.self.query.bias torch.Size([768])\n",
      "bert.encoder.layer.5.attention.self.key.weight torch.Size([768, 768])\n",
      "bert.encoder.layer.5.attention.self.key.bias torch.Size([768])\n",
      "bert.encoder.layer.5.attention.self.value.weight torch.Size([768, 768])\n",
      "bert.encoder.layer.5.attention.self.value.bias torch.Size([768])\n",
      "bert.encoder.layer.5.attention.output.dense.weight torch.Size([768, 768])\n",
      "bert.encoder.layer.5.attention.output.dense.bias torch.Size([768])\n",
      "bert.encoder.layer.5.attention.output.LayerNorm.weight torch.Size([768])\n",
      "bert.encoder.layer.5.attention.output.LayerNorm.bias torch.Size([768])\n",
      "bert.encoder.layer.5.intermediate.dense.weight torch.Size([3072, 768])\n",
      "bert.encoder.layer.5.intermediate.dense.bias torch.Size([3072])\n",
      "bert.encoder.layer.5.output.dense.weight torch.Size([768, 3072])\n",
      "bert.encoder.layer.5.output.dense.bias torch.Size([768])\n",
      "bert.encoder.layer.5.output.LayerNorm.weight torch.Size([768])\n",
      "bert.encoder.layer.5.output.LayerNorm.bias torch.Size([768])\n",
      "bert.encoder.layer.6.attention.self.query.weight torch.Size([768, 768])\n",
      "bert.encoder.layer.6.attention.self.query.bias torch.Size([768])\n",
      "bert.encoder.layer.6.attention.self.key.weight torch.Size([768, 768])\n",
      "bert.encoder.layer.6.attention.self.key.bias torch.Size([768])\n",
      "bert.encoder.layer.6.attention.self.value.weight torch.Size([768, 768])\n",
      "bert.encoder.layer.6.attention.self.value.bias torch.Size([768])\n",
      "bert.encoder.layer.6.attention.output.dense.weight torch.Size([768, 768])\n",
      "bert.encoder.layer.6.attention.output.dense.bias torch.Size([768])\n",
      "bert.encoder.layer.6.attention.output.LayerNorm.weight torch.Size([768])\n",
      "bert.encoder.layer.6.attention.output.LayerNorm.bias torch.Size([768])\n",
      "bert.encoder.layer.6.intermediate.dense.weight torch.Size([3072, 768])\n",
      "bert.encoder.layer.6.intermediate.dense.bias torch.Size([3072])\n",
      "bert.encoder.layer.6.output.dense.weight torch.Size([768, 3072])\n",
      "bert.encoder.layer.6.output.dense.bias torch.Size([768])\n",
      "bert.encoder.layer.6.output.LayerNorm.weight torch.Size([768])\n",
      "bert.encoder.layer.6.output.LayerNorm.bias torch.Size([768])\n",
      "bert.encoder.layer.7.attention.self.query.weight torch.Size([768, 768])\n",
      "bert.encoder.layer.7.attention.self.query.bias torch.Size([768])\n",
      "bert.encoder.layer.7.attention.self.key.weight torch.Size([768, 768])\n",
      "bert.encoder.layer.7.attention.self.key.bias torch.Size([768])\n",
      "bert.encoder.layer.7.attention.self.value.weight torch.Size([768, 768])\n",
      "bert.encoder.layer.7.attention.self.value.bias torch.Size([768])\n",
      "bert.encoder.layer.7.attention.output.dense.weight torch.Size([768, 768])\n",
      "bert.encoder.layer.7.attention.output.dense.bias torch.Size([768])\n",
      "bert.encoder.layer.7.attention.output.LayerNorm.weight torch.Size([768])\n",
      "bert.encoder.layer.7.attention.output.LayerNorm.bias torch.Size([768])\n",
      "bert.encoder.layer.7.intermediate.dense.weight torch.Size([3072, 768])\n",
      "bert.encoder.layer.7.intermediate.dense.bias torch.Size([3072])\n",
      "bert.encoder.layer.7.output.dense.weight torch.Size([768, 3072])\n",
      "bert.encoder.layer.7.output.dense.bias torch.Size([768])\n",
      "bert.encoder.layer.7.output.LayerNorm.weight torch.Size([768])\n",
      "bert.encoder.layer.7.output.LayerNorm.bias torch.Size([768])\n",
      "bert.encoder.layer.8.attention.self.query.weight torch.Size([768, 768])\n",
      "bert.encoder.layer.8.attention.self.query.bias torch.Size([768])\n",
      "bert.encoder.layer.8.attention.self.key.weight torch.Size([768, 768])\n",
      "bert.encoder.layer.8.attention.self.key.bias torch.Size([768])\n",
      "bert.encoder.layer.8.attention.self.value.weight torch.Size([768, 768])\n",
      "bert.encoder.layer.8.attention.self.value.bias torch.Size([768])\n",
      "bert.encoder.layer.8.attention.output.dense.weight torch.Size([768, 768])\n",
      "bert.encoder.layer.8.attention.output.dense.bias torch.Size([768])\n",
      "bert.encoder.layer.8.attention.output.LayerNorm.weight torch.Size([768])\n",
      "bert.encoder.layer.8.attention.output.LayerNorm.bias torch.Size([768])\n",
      "bert.encoder.layer.8.intermediate.dense.weight torch.Size([3072, 768])\n",
      "bert.encoder.layer.8.intermediate.dense.bias torch.Size([3072])\n",
      "bert.encoder.layer.8.output.dense.weight torch.Size([768, 3072])\n",
      "bert.encoder.layer.8.output.dense.bias torch.Size([768])\n",
      "bert.encoder.layer.8.output.LayerNorm.weight torch.Size([768])\n",
      "bert.encoder.layer.8.output.LayerNorm.bias torch.Size([768])\n",
      "bert.encoder.layer.9.attention.self.query.weight torch.Size([768, 768])\n",
      "bert.encoder.layer.9.attention.self.query.bias torch.Size([768])\n",
      "bert.encoder.layer.9.attention.self.key.weight torch.Size([768, 768])\n",
      "bert.encoder.layer.9.attention.self.key.bias torch.Size([768])\n",
      "bert.encoder.layer.9.attention.self.value.weight torch.Size([768, 768])\n",
      "bert.encoder.layer.9.attention.self.value.bias torch.Size([768])\n",
      "bert.encoder.layer.9.attention.output.dense.weight torch.Size([768, 768])\n",
      "bert.encoder.layer.9.attention.output.dense.bias torch.Size([768])\n",
      "bert.encoder.layer.9.attention.output.LayerNorm.weight torch.Size([768])\n",
      "bert.encoder.layer.9.attention.output.LayerNorm.bias torch.Size([768])\n",
      "bert.encoder.layer.9.intermediate.dense.weight torch.Size([3072, 768])\n",
      "bert.encoder.layer.9.intermediate.dense.bias torch.Size([3072])\n",
      "bert.encoder.layer.9.output.dense.weight torch.Size([768, 3072])\n",
      "bert.encoder.layer.9.output.dense.bias torch.Size([768])\n",
      "bert.encoder.layer.9.output.LayerNorm.weight torch.Size([768])\n",
      "bert.encoder.layer.9.output.LayerNorm.bias torch.Size([768])\n",
      "bert.encoder.layer.10.attention.self.query.weight torch.Size([768, 768])\n",
      "bert.encoder.layer.10.attention.self.query.bias torch.Size([768])\n",
      "bert.encoder.layer.10.attention.self.key.weight torch.Size([768, 768])\n",
      "bert.encoder.layer.10.attention.self.key.bias torch.Size([768])\n",
      "bert.encoder.layer.10.attention.self.value.weight torch.Size([768, 768])\n",
      "bert.encoder.layer.10.attention.self.value.bias torch.Size([768])\n",
      "bert.encoder.layer.10.attention.output.dense.weight torch.Size([768, 768])\n",
      "bert.encoder.layer.10.attention.output.dense.bias torch.Size([768])\n",
      "bert.encoder.layer.10.attention.output.LayerNorm.weight torch.Size([768])\n",
      "bert.encoder.layer.10.attention.output.LayerNorm.bias torch.Size([768])\n",
      "bert.encoder.layer.10.intermediate.dense.weight torch.Size([3072, 768])\n",
      "bert.encoder.layer.10.intermediate.dense.bias torch.Size([3072])\n",
      "bert.encoder.layer.10.output.dense.weight torch.Size([768, 3072])\n",
      "bert.encoder.layer.10.output.dense.bias torch.Size([768])\n",
      "bert.encoder.layer.10.output.LayerNorm.weight torch.Size([768])\n",
      "bert.encoder.layer.10.output.LayerNorm.bias torch.Size([768])\n",
      "bert.encoder.layer.11.attention.self.query.weight torch.Size([768, 768])\n",
      "bert.encoder.layer.11.attention.self.query.bias torch.Size([768])\n",
      "bert.encoder.layer.11.attention.self.key.weight torch.Size([768, 768])\n",
      "bert.encoder.layer.11.attention.self.key.bias torch.Size([768])\n",
      "bert.encoder.layer.11.attention.self.value.weight torch.Size([768, 768])\n",
      "bert.encoder.layer.11.attention.self.value.bias torch.Size([768])\n",
      "bert.encoder.layer.11.attention.output.dense.weight torch.Size([768, 768])\n",
      "bert.encoder.layer.11.attention.output.dense.bias torch.Size([768])\n",
      "bert.encoder.layer.11.attention.output.LayerNorm.weight torch.Size([768])\n",
      "bert.encoder.layer.11.attention.output.LayerNorm.bias torch.Size([768])\n",
      "bert.encoder.layer.11.intermediate.dense.weight torch.Size([3072, 768])\n",
      "bert.encoder.layer.11.intermediate.dense.bias torch.Size([3072])\n",
      "bert.encoder.layer.11.output.dense.weight torch.Size([768, 3072])\n",
      "bert.encoder.layer.11.output.dense.bias torch.Size([768])\n",
      "bert.encoder.layer.11.output.LayerNorm.weight torch.Size([768])\n",
      "bert.encoder.layer.11.output.LayerNorm.bias torch.Size([768])\n",
      "bert.pooler.dense.weight torch.Size([768, 768])\n",
      "bert.pooler.dense.bias torch.Size([768])\n",
      "classifier.weight torch.Size([6, 768])\n",
      "classifier.bias torch.Size([6])\n"
     ]
    }
   ],
   "source": [
    "# Model layers\n",
    "for name, param in model.named_parameters():\n",
    "    print(name, param.shape)"
   ]
  },
  {
   "cell_type": "code",
   "execution_count": 41,
   "id": "7231c075",
   "metadata": {},
   "outputs": [
    {
     "name": "stdout",
     "output_type": "stream",
     "text": [
      "Accuracy: 90.28%\n"
     ]
    }
   ],
   "source": [
    "# Model accuracy\n",
    "from sklearn.metrics import accuracy_score\n",
    "\n",
    "# Convert predicted labels to taxonomy labels\n",
    "predicted_labels = [list(taxonomy_mapping.keys())[p] for p in predictions]\n",
    "\n",
    "# Convert actual labels to taxonomy labels\n",
    "actual_labels = [list(taxonomy_mapping.keys())[t] for t in test_labels.tolist()]\n",
    "\n",
    "# Calculate accuracy\n",
    "accuracy = accuracy_score(actual_labels, predicted_labels)\n",
    "\n",
    "print(\"Accuracy: {:.2f}%\".format(accuracy * 100))\n"
   ]
  },
  {
   "cell_type": "code",
   "execution_count": null,
   "id": "6bc6430d",
   "metadata": {},
   "outputs": [],
   "source": []
  },
  {
   "cell_type": "markdown",
   "id": "f9d63284",
   "metadata": {},
   "source": [
    "# Sample Bloom's Taxonomy Question"
   ]
  },
  {
   "cell_type": "code",
   "execution_count": 42,
   "id": "91c2e11f",
   "metadata": {},
   "outputs": [
    {
     "name": "stdout",
     "output_type": "stream",
     "text": [
      "Predicted taxonomy: Understanding\n"
     ]
    }
   ],
   "source": [
    "sample_question = \"Describe the process of photosynthesis.\"\n",
    "\n",
    "encoded_question = tokenizer.encode_plus(\n",
    "    sample_question,\n",
    "    truncation=True,\n",
    "    padding=True,\n",
    "    max_length=128,\n",
    "    add_special_tokens=True,\n",
    "    return_tensors='pt'\n",
    ")\n",
    "input_ids = encoded_question['input_ids']\n",
    "attention_mask = encoded_question['attention_mask']\n",
    "\n",
    "\n",
    "with torch.no_grad():\n",
    "    model.eval()\n",
    "    logits = model(input_ids, attention_mask=attention_mask)\n",
    "\n",
    "predicted_label = torch.argmax(logits[0]).item()\n",
    "predicted_taxonomy = list(taxonomy_mapping.keys())[predicted_label]\n",
    "\n",
    "print(\"Predicted taxonomy:\", predicted_taxonomy)"
   ]
  },
  {
   "cell_type": "code",
   "execution_count": null,
   "id": "b1c992f8",
   "metadata": {},
   "outputs": [],
   "source": []
  }
 ],
 "metadata": {
  "kernelspec": {
   "display_name": "Python 3 (ipykernel)",
   "language": "python",
   "name": "python3"
  },
  "language_info": {
   "codemirror_mode": {
    "name": "ipython",
    "version": 3
   },
   "file_extension": ".py",
   "mimetype": "text/x-python",
   "name": "python",
   "nbconvert_exporter": "python",
   "pygments_lexer": "ipython3",
   "version": "3.9.13"
  }
 },
 "nbformat": 4,
 "nbformat_minor": 5
}
